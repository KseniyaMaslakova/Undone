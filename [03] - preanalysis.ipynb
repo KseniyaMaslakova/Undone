{
  "nbformat": 4,
  "nbformat_minor": 0,
  "metadata": {
    "colab": {
      "provenance": []
    },
    "kernelspec": {
      "name": "python3",
      "display_name": "Python 3"
    },
    "language_info": {
      "name": "python"
    }
  },
  "cells": [
    {
      "cell_type": "code",
      "execution_count": 1,
      "metadata": {
        "id": "KqaY421_2Lhq"
      },
      "outputs": [],
      "source": [
        "from datetime import datetime\n",
        "\n",
        "import pandas as pd\n",
        "import numpy as np\n",
        "\n",
        "import matplotlib.pyplot as plt\n",
        "import seaborn as sns\n"
      ]
    },
    {
      "cell_type": "markdown",
      "source": [
        "# Посмотрим на данные"
      ],
      "metadata": {
        "id": "WgseFAS6crlv"
      }
    },
    {
      "cell_type": "code",
      "source": [
        "df = pd.read_csv('UnDone.csv')"
      ],
      "metadata": {
        "id": "dbzdUolA2d_m"
      },
      "execution_count": 2,
      "outputs": []
    },
    {
      "cell_type": "code",
      "source": [
        "df.head()"
      ],
      "metadata": {
        "colab": {
          "base_uri": "https://localhost:8080/",
          "height": 412
        },
        "id": "67OLvKAI3Rsi",
        "outputId": "05f52d40-c692-4eac-e844-244a728f8489"
      },
      "execution_count": 3,
      "outputs": [
        {
          "output_type": "execute_result",
          "data": {
            "text/plain": [
              "      id                                           Название  \\\n",
              "0  50878  п. Металлплощадка, б-р Строителей, д. 71, корп...   \n",
              "1  41996                                    ЖК \"Челны Сити\"   \n",
              "2  45490                                              DOGMA   \n",
              "3  50119                                    ЖК \"DOLCE VITA\"   \n",
              "4  40642                                  ЖК Городские сады   \n",
              "\n",
              "  Класс энергетической эффективности Ввод в эксплуатацию Класс недвижимости  \\\n",
              "0                                  B         IV кв. 2025            Типовой   \n",
              "1                     Не нормируется        III кв. 2024            Комфорт   \n",
              "2                                  B         II кв. 2026            Комфорт   \n",
              "3                                  A         IV кв. 2025            Комфорт   \n",
              "4                                  B         IV кв. 2024            Комфорт   \n",
              "\n",
              "    Материал стен Тип отделки Свободная планировка Количество этажей  \\\n",
              "0          Кирпич   1 вариант                 Есть                 4   \n",
              "1  Монолит-кирпич         Нет                  Нет                 8   \n",
              "2  Монолит-кирпич   1 вариант                  Нет                17   \n",
              "3  Монолит-кирпич         Нет                 Есть                 2   \n",
              "4  Монолит-кирпич   1 вариант                  Нет                20   \n",
              "\n",
              "  Количество квартир  ... Индекс доступности инфраструктуры  \\\n",
              "0                 50  ...                               5.0   \n",
              "1                Нет  ...                               NaN   \n",
              "2                856  ...                               5.0   \n",
              "3                Нет  ...                               NaN   \n",
              "4                387  ...                               6.0   \n",
              "\n",
              "  Количество спортивныхплощадок Наличие понижающихплощадок  \\\n",
              "0                           NaN                        NaN   \n",
              "1                             1                       Есть   \n",
              "2                           NaN                        NaN   \n",
              "3                             1                       Есть   \n",
              "4                           NaN                        NaN   \n",
              "\n",
              "  Доступность инфраструктуры Транспортная доступность  \\\n",
              "0                        NaN                      NaN   \n",
              "1                        9.0                      NaN   \n",
              "2                        NaN                      NaN   \n",
              "3                        7.0                      NaN   \n",
              "4                        NaN                      NaN   \n",
              "\n",
              "  Индекс транспортной доступности Зеленые зоны Качество воздуха  \\\n",
              "0                             NaN          NaN              NaN   \n",
              "1                             NaN          NaN              NaN   \n",
              "2                             NaN          NaN              NaN   \n",
              "3                             NaN          NaN              NaN   \n",
              "4                             NaN          NaN              NaN   \n",
              "\n",
              "  Индекс зеленой зоны Индекс качества воздуха  \n",
              "0                 NaN                     NaN  \n",
              "1                 NaN                     NaN  \n",
              "2                 NaN                     NaN  \n",
              "3                 NaN                     NaN  \n",
              "4                 NaN                     NaN  \n",
              "\n",
              "[5 rows x 35 columns]"
            ],
            "text/html": [
              "\n",
              "  <div id=\"df-b6bf3cc2-06a3-46dd-a84c-9c997db4d987\" class=\"colab-df-container\">\n",
              "    <div>\n",
              "<style scoped>\n",
              "    .dataframe tbody tr th:only-of-type {\n",
              "        vertical-align: middle;\n",
              "    }\n",
              "\n",
              "    .dataframe tbody tr th {\n",
              "        vertical-align: top;\n",
              "    }\n",
              "\n",
              "    .dataframe thead th {\n",
              "        text-align: right;\n",
              "    }\n",
              "</style>\n",
              "<table border=\"1\" class=\"dataframe\">\n",
              "  <thead>\n",
              "    <tr style=\"text-align: right;\">\n",
              "      <th></th>\n",
              "      <th>id</th>\n",
              "      <th>Название</th>\n",
              "      <th>Класс энергетической эффективности</th>\n",
              "      <th>Ввод в эксплуатацию</th>\n",
              "      <th>Класс недвижимости</th>\n",
              "      <th>Материал стен</th>\n",
              "      <th>Тип отделки</th>\n",
              "      <th>Свободная планировка</th>\n",
              "      <th>Количество этажей</th>\n",
              "      <th>Количество квартир</th>\n",
              "      <th>...</th>\n",
              "      <th>Индекс доступности инфраструктуры</th>\n",
              "      <th>Количество спортивныхплощадок</th>\n",
              "      <th>Наличие понижающихплощадок</th>\n",
              "      <th>Доступность инфраструктуры</th>\n",
              "      <th>Транспортная доступность</th>\n",
              "      <th>Индекс транспортной доступности</th>\n",
              "      <th>Зеленые зоны</th>\n",
              "      <th>Качество воздуха</th>\n",
              "      <th>Индекс зеленой зоны</th>\n",
              "      <th>Индекс качества воздуха</th>\n",
              "    </tr>\n",
              "  </thead>\n",
              "  <tbody>\n",
              "    <tr>\n",
              "      <th>0</th>\n",
              "      <td>50878</td>\n",
              "      <td>п. Металлплощадка, б-р Строителей, д. 71, корп...</td>\n",
              "      <td>B</td>\n",
              "      <td>IV кв. 2025</td>\n",
              "      <td>Типовой</td>\n",
              "      <td>Кирпич</td>\n",
              "      <td>1 вариант</td>\n",
              "      <td>Есть</td>\n",
              "      <td>4</td>\n",
              "      <td>50</td>\n",
              "      <td>...</td>\n",
              "      <td>5.0</td>\n",
              "      <td>NaN</td>\n",
              "      <td>NaN</td>\n",
              "      <td>NaN</td>\n",
              "      <td>NaN</td>\n",
              "      <td>NaN</td>\n",
              "      <td>NaN</td>\n",
              "      <td>NaN</td>\n",
              "      <td>NaN</td>\n",
              "      <td>NaN</td>\n",
              "    </tr>\n",
              "    <tr>\n",
              "      <th>1</th>\n",
              "      <td>41996</td>\n",
              "      <td>ЖК \"Челны Сити\"</td>\n",
              "      <td>Не нормируется</td>\n",
              "      <td>III кв. 2024</td>\n",
              "      <td>Комфорт</td>\n",
              "      <td>Монолит-кирпич</td>\n",
              "      <td>Нет</td>\n",
              "      <td>Нет</td>\n",
              "      <td>8</td>\n",
              "      <td>Нет</td>\n",
              "      <td>...</td>\n",
              "      <td>NaN</td>\n",
              "      <td>1</td>\n",
              "      <td>Есть</td>\n",
              "      <td>9.0</td>\n",
              "      <td>NaN</td>\n",
              "      <td>NaN</td>\n",
              "      <td>NaN</td>\n",
              "      <td>NaN</td>\n",
              "      <td>NaN</td>\n",
              "      <td>NaN</td>\n",
              "    </tr>\n",
              "    <tr>\n",
              "      <th>2</th>\n",
              "      <td>45490</td>\n",
              "      <td>DOGMA</td>\n",
              "      <td>B</td>\n",
              "      <td>II кв. 2026</td>\n",
              "      <td>Комфорт</td>\n",
              "      <td>Монолит-кирпич</td>\n",
              "      <td>1 вариант</td>\n",
              "      <td>Нет</td>\n",
              "      <td>17</td>\n",
              "      <td>856</td>\n",
              "      <td>...</td>\n",
              "      <td>5.0</td>\n",
              "      <td>NaN</td>\n",
              "      <td>NaN</td>\n",
              "      <td>NaN</td>\n",
              "      <td>NaN</td>\n",
              "      <td>NaN</td>\n",
              "      <td>NaN</td>\n",
              "      <td>NaN</td>\n",
              "      <td>NaN</td>\n",
              "      <td>NaN</td>\n",
              "    </tr>\n",
              "    <tr>\n",
              "      <th>3</th>\n",
              "      <td>50119</td>\n",
              "      <td>ЖК \"DOLCE VITA\"</td>\n",
              "      <td>A</td>\n",
              "      <td>IV кв. 2025</td>\n",
              "      <td>Комфорт</td>\n",
              "      <td>Монолит-кирпич</td>\n",
              "      <td>Нет</td>\n",
              "      <td>Есть</td>\n",
              "      <td>2</td>\n",
              "      <td>Нет</td>\n",
              "      <td>...</td>\n",
              "      <td>NaN</td>\n",
              "      <td>1</td>\n",
              "      <td>Есть</td>\n",
              "      <td>7.0</td>\n",
              "      <td>NaN</td>\n",
              "      <td>NaN</td>\n",
              "      <td>NaN</td>\n",
              "      <td>NaN</td>\n",
              "      <td>NaN</td>\n",
              "      <td>NaN</td>\n",
              "    </tr>\n",
              "    <tr>\n",
              "      <th>4</th>\n",
              "      <td>40642</td>\n",
              "      <td>ЖК Городские сады</td>\n",
              "      <td>B</td>\n",
              "      <td>IV кв. 2024</td>\n",
              "      <td>Комфорт</td>\n",
              "      <td>Монолит-кирпич</td>\n",
              "      <td>1 вариант</td>\n",
              "      <td>Нет</td>\n",
              "      <td>20</td>\n",
              "      <td>387</td>\n",
              "      <td>...</td>\n",
              "      <td>6.0</td>\n",
              "      <td>NaN</td>\n",
              "      <td>NaN</td>\n",
              "      <td>NaN</td>\n",
              "      <td>NaN</td>\n",
              "      <td>NaN</td>\n",
              "      <td>NaN</td>\n",
              "      <td>NaN</td>\n",
              "      <td>NaN</td>\n",
              "      <td>NaN</td>\n",
              "    </tr>\n",
              "  </tbody>\n",
              "</table>\n",
              "<p>5 rows × 35 columns</p>\n",
              "</div>\n",
              "    <div class=\"colab-df-buttons\">\n",
              "\n",
              "  <div class=\"colab-df-container\">\n",
              "    <button class=\"colab-df-convert\" onclick=\"convertToInteractive('df-b6bf3cc2-06a3-46dd-a84c-9c997db4d987')\"\n",
              "            title=\"Convert this dataframe to an interactive table.\"\n",
              "            style=\"display:none;\">\n",
              "\n",
              "  <svg xmlns=\"http://www.w3.org/2000/svg\" height=\"24px\" viewBox=\"0 -960 960 960\">\n",
              "    <path d=\"M120-120v-720h720v720H120Zm60-500h600v-160H180v160Zm220 220h160v-160H400v160Zm0 220h160v-160H400v160ZM180-400h160v-160H180v160Zm440 0h160v-160H620v160ZM180-180h160v-160H180v160Zm440 0h160v-160H620v160Z\"/>\n",
              "  </svg>\n",
              "    </button>\n",
              "\n",
              "  <style>\n",
              "    .colab-df-container {\n",
              "      display:flex;\n",
              "      gap: 12px;\n",
              "    }\n",
              "\n",
              "    .colab-df-convert {\n",
              "      background-color: #E8F0FE;\n",
              "      border: none;\n",
              "      border-radius: 50%;\n",
              "      cursor: pointer;\n",
              "      display: none;\n",
              "      fill: #1967D2;\n",
              "      height: 32px;\n",
              "      padding: 0 0 0 0;\n",
              "      width: 32px;\n",
              "    }\n",
              "\n",
              "    .colab-df-convert:hover {\n",
              "      background-color: #E2EBFA;\n",
              "      box-shadow: 0px 1px 2px rgba(60, 64, 67, 0.3), 0px 1px 3px 1px rgba(60, 64, 67, 0.15);\n",
              "      fill: #174EA6;\n",
              "    }\n",
              "\n",
              "    .colab-df-buttons div {\n",
              "      margin-bottom: 4px;\n",
              "    }\n",
              "\n",
              "    [theme=dark] .colab-df-convert {\n",
              "      background-color: #3B4455;\n",
              "      fill: #D2E3FC;\n",
              "    }\n",
              "\n",
              "    [theme=dark] .colab-df-convert:hover {\n",
              "      background-color: #434B5C;\n",
              "      box-shadow: 0px 1px 3px 1px rgba(0, 0, 0, 0.15);\n",
              "      filter: drop-shadow(0px 1px 2px rgba(0, 0, 0, 0.3));\n",
              "      fill: #FFFFFF;\n",
              "    }\n",
              "  </style>\n",
              "\n",
              "    <script>\n",
              "      const buttonEl =\n",
              "        document.querySelector('#df-b6bf3cc2-06a3-46dd-a84c-9c997db4d987 button.colab-df-convert');\n",
              "      buttonEl.style.display =\n",
              "        google.colab.kernel.accessAllowed ? 'block' : 'none';\n",
              "\n",
              "      async function convertToInteractive(key) {\n",
              "        const element = document.querySelector('#df-b6bf3cc2-06a3-46dd-a84c-9c997db4d987');\n",
              "        const dataTable =\n",
              "          await google.colab.kernel.invokeFunction('convertToInteractive',\n",
              "                                                    [key], {});\n",
              "        if (!dataTable) return;\n",
              "\n",
              "        const docLinkHtml = 'Like what you see? Visit the ' +\n",
              "          '<a target=\"_blank\" href=https://colab.research.google.com/notebooks/data_table.ipynb>data table notebook</a>'\n",
              "          + ' to learn more about interactive tables.';\n",
              "        element.innerHTML = '';\n",
              "        dataTable['output_type'] = 'display_data';\n",
              "        await google.colab.output.renderOutput(dataTable, element);\n",
              "        const docLink = document.createElement('div');\n",
              "        docLink.innerHTML = docLinkHtml;\n",
              "        element.appendChild(docLink);\n",
              "      }\n",
              "    </script>\n",
              "  </div>\n",
              "\n",
              "\n",
              "<div id=\"df-87aa61a6-8a1d-47c5-93f0-4135f7ba8acb\">\n",
              "  <button class=\"colab-df-quickchart\" onclick=\"quickchart('df-87aa61a6-8a1d-47c5-93f0-4135f7ba8acb')\"\n",
              "            title=\"Suggest charts\"\n",
              "            style=\"display:none;\">\n",
              "\n",
              "<svg xmlns=\"http://www.w3.org/2000/svg\" height=\"24px\"viewBox=\"0 0 24 24\"\n",
              "     width=\"24px\">\n",
              "    <g>\n",
              "        <path d=\"M19 3H5c-1.1 0-2 .9-2 2v14c0 1.1.9 2 2 2h14c1.1 0 2-.9 2-2V5c0-1.1-.9-2-2-2zM9 17H7v-7h2v7zm4 0h-2V7h2v10zm4 0h-2v-4h2v4z\"/>\n",
              "    </g>\n",
              "</svg>\n",
              "  </button>\n",
              "\n",
              "<style>\n",
              "  .colab-df-quickchart {\n",
              "      --bg-color: #E8F0FE;\n",
              "      --fill-color: #1967D2;\n",
              "      --hover-bg-color: #E2EBFA;\n",
              "      --hover-fill-color: #174EA6;\n",
              "      --disabled-fill-color: #AAA;\n",
              "      --disabled-bg-color: #DDD;\n",
              "  }\n",
              "\n",
              "  [theme=dark] .colab-df-quickchart {\n",
              "      --bg-color: #3B4455;\n",
              "      --fill-color: #D2E3FC;\n",
              "      --hover-bg-color: #434B5C;\n",
              "      --hover-fill-color: #FFFFFF;\n",
              "      --disabled-bg-color: #3B4455;\n",
              "      --disabled-fill-color: #666;\n",
              "  }\n",
              "\n",
              "  .colab-df-quickchart {\n",
              "    background-color: var(--bg-color);\n",
              "    border: none;\n",
              "    border-radius: 50%;\n",
              "    cursor: pointer;\n",
              "    display: none;\n",
              "    fill: var(--fill-color);\n",
              "    height: 32px;\n",
              "    padding: 0;\n",
              "    width: 32px;\n",
              "  }\n",
              "\n",
              "  .colab-df-quickchart:hover {\n",
              "    background-color: var(--hover-bg-color);\n",
              "    box-shadow: 0 1px 2px rgba(60, 64, 67, 0.3), 0 1px 3px 1px rgba(60, 64, 67, 0.15);\n",
              "    fill: var(--button-hover-fill-color);\n",
              "  }\n",
              "\n",
              "  .colab-df-quickchart-complete:disabled,\n",
              "  .colab-df-quickchart-complete:disabled:hover {\n",
              "    background-color: var(--disabled-bg-color);\n",
              "    fill: var(--disabled-fill-color);\n",
              "    box-shadow: none;\n",
              "  }\n",
              "\n",
              "  .colab-df-spinner {\n",
              "    border: 2px solid var(--fill-color);\n",
              "    border-color: transparent;\n",
              "    border-bottom-color: var(--fill-color);\n",
              "    animation:\n",
              "      spin 1s steps(1) infinite;\n",
              "  }\n",
              "\n",
              "  @keyframes spin {\n",
              "    0% {\n",
              "      border-color: transparent;\n",
              "      border-bottom-color: var(--fill-color);\n",
              "      border-left-color: var(--fill-color);\n",
              "    }\n",
              "    20% {\n",
              "      border-color: transparent;\n",
              "      border-left-color: var(--fill-color);\n",
              "      border-top-color: var(--fill-color);\n",
              "    }\n",
              "    30% {\n",
              "      border-color: transparent;\n",
              "      border-left-color: var(--fill-color);\n",
              "      border-top-color: var(--fill-color);\n",
              "      border-right-color: var(--fill-color);\n",
              "    }\n",
              "    40% {\n",
              "      border-color: transparent;\n",
              "      border-right-color: var(--fill-color);\n",
              "      border-top-color: var(--fill-color);\n",
              "    }\n",
              "    60% {\n",
              "      border-color: transparent;\n",
              "      border-right-color: var(--fill-color);\n",
              "    }\n",
              "    80% {\n",
              "      border-color: transparent;\n",
              "      border-right-color: var(--fill-color);\n",
              "      border-bottom-color: var(--fill-color);\n",
              "    }\n",
              "    90% {\n",
              "      border-color: transparent;\n",
              "      border-bottom-color: var(--fill-color);\n",
              "    }\n",
              "  }\n",
              "</style>\n",
              "\n",
              "  <script>\n",
              "    async function quickchart(key) {\n",
              "      const quickchartButtonEl =\n",
              "        document.querySelector('#' + key + ' button');\n",
              "      quickchartButtonEl.disabled = true;  // To prevent multiple clicks.\n",
              "      quickchartButtonEl.classList.add('colab-df-spinner');\n",
              "      try {\n",
              "        const charts = await google.colab.kernel.invokeFunction(\n",
              "            'suggestCharts', [key], {});\n",
              "      } catch (error) {\n",
              "        console.error('Error during call to suggestCharts:', error);\n",
              "      }\n",
              "      quickchartButtonEl.classList.remove('colab-df-spinner');\n",
              "      quickchartButtonEl.classList.add('colab-df-quickchart-complete');\n",
              "    }\n",
              "    (() => {\n",
              "      let quickchartButtonEl =\n",
              "        document.querySelector('#df-87aa61a6-8a1d-47c5-93f0-4135f7ba8acb button');\n",
              "      quickchartButtonEl.style.display =\n",
              "        google.colab.kernel.accessAllowed ? 'block' : 'none';\n",
              "    })();\n",
              "  </script>\n",
              "</div>\n",
              "    </div>\n",
              "  </div>\n"
            ],
            "application/vnd.google.colaboratory.intrinsic+json": {
              "type": "dataframe",
              "variable_name": "df"
            }
          },
          "metadata": {},
          "execution_count": 3
        }
      ]
    },
    {
      "cell_type": "code",
      "source": [
        "df.info()"
      ],
      "metadata": {
        "colab": {
          "base_uri": "https://localhost:8080/"
        },
        "id": "dzGILxosRWTH",
        "outputId": "36efa8a6-9376-45da-c61f-d4df72d0599b"
      },
      "execution_count": 4,
      "outputs": [
        {
          "output_type": "stream",
          "name": "stdout",
          "text": [
            "<class 'pandas.core.frame.DataFrame'>\n",
            "RangeIndex: 9800 entries, 0 to 9799\n",
            "Data columns (total 35 columns):\n",
            " #   Column                                         Non-Null Count  Dtype  \n",
            "---  ------                                         --------------  -----  \n",
            " 0   id                                             9800 non-null   int64  \n",
            " 1   Название                                       9800 non-null   object \n",
            " 2   Класс энергетической эффективности             9800 non-null   object \n",
            " 3   Ввод в эксплуатацию                            9800 non-null   object \n",
            " 4   Класс недвижимости                             9800 non-null   object \n",
            " 5   Материал стен                                  9800 non-null   object \n",
            " 6   Тип отделки                                    9800 non-null   object \n",
            " 7   Свободная планировка                           9800 non-null   object \n",
            " 8   Количество этажей                              9800 non-null   object \n",
            " 9   Количество квартир                             9800 non-null   object \n",
            " 10  Жилая площадь, м²                              9800 non-null   object \n",
            " 11  Высота потолков, м                             9800 non-null   object \n",
            " 12  Велосипедные дорожки                           9799 non-null   object \n",
            " 13  Количество детских площадок                    9799 non-null   object \n",
            " 14  Количество спортивных площадок                 5029 non-null   object \n",
            " 15  Количество площадок для сбора мусора           9799 non-null   object \n",
            " 16  Количество мест в паркинге                     9799 non-null   object \n",
            " 17  Гостевые места на придомовой территории        9798 non-null   object \n",
            " 18  Гостевые места вне придомовой территории       9798 non-null   object \n",
            " 19  Наличие пандуса                                9797 non-null   object \n",
            " 20  Наличие понижающих площадок                    5027 non-null   object \n",
            " 21  Количество инвалидных подъемников              9797 non-null   object \n",
            " 22  Количество подъездов                           9797 non-null   object \n",
            " 23  Количество пассажирских лифтов                 9797 non-null   object \n",
            " 24  Количество грузовыхи грузопассажирских лифтов  9797 non-null   object \n",
            " 25  Индекс доступности инфраструктуры              5026 non-null   float64\n",
            " 26  Количество спортивныхплощадок                  4770 non-null   object \n",
            " 27  Наличие понижающихплощадок                     4770 non-null   object \n",
            " 28  Доступность инфраструктуры                     4771 non-null   float64\n",
            " 29  Транспортная доступность                       991 non-null    float64\n",
            " 30  Индекс транспортной доступности                811 non-null    float64\n",
            " 31  Зеленые зоны                                   693 non-null    float64\n",
            " 32  Качество воздуха                               241 non-null    float64\n",
            " 33  Индекс зеленой зоны                            460 non-null    float64\n",
            " 34  Индекс качества воздуха                        76 non-null     float64\n",
            "dtypes: float64(8), int64(1), object(26)\n",
            "memory usage: 2.6+ MB\n"
          ]
        }
      ]
    },
    {
      "cell_type": "markdown",
      "source": [
        "Какие значения принимают переменные?"
      ],
      "metadata": {
        "id": "Cx_mL3d71I4O"
      }
    },
    {
      "cell_type": "code",
      "source": [
        "for col in df:\n",
        "  if col == 'Название':\n",
        "    continue\n",
        "  #для удобства восприятия мы обрезали до 10 значений\n",
        "  print(col, df[col].unique()[:10])\n",
        "  print()"
      ],
      "metadata": {
        "id": "50VEuTsd8I8e",
        "colab": {
          "base_uri": "https://localhost:8080/"
        },
        "outputId": "e108cdf2-4f79-4bee-f564-a5797477f420"
      },
      "execution_count": 5,
      "outputs": [
        {
          "output_type": "stream",
          "name": "stdout",
          "text": [
            "id [50878 41996 45490 50119 40642 46437 48265 56915 47905 49041]\n",
            "\n",
            "Класс энергетической эффективности ['B' 'Не нормируется' 'A' 'D' 'C' 'A+' 'A++' 'G' 'E']\n",
            "\n",
            "Ввод в эксплуатацию ['IV кв. 2025' 'III кв. 2024' 'II кв. 2026' 'IV кв. 2024' 'I кв. 2025'\n",
            " 'II кв. 2024' 'II кв. 2025' 'IV кв. 2026' 'III кв. 2026' 'I кв. 2026']\n",
            "\n",
            "Класс недвижимости ['Типовой' 'Комфорт' 'Бизнес' 'Элитный' 'Другое']\n",
            "\n",
            "Материал стен ['Кирпич' 'Монолит-кирпич' 'Другое' 'Монолит' 'Блоки' 'Панель']\n",
            "\n",
            "Тип отделки ['1 вариант' 'Нет' '2 варианта' '3 варианта']\n",
            "\n",
            "Свободная планировка ['Есть' 'Нет']\n",
            "\n",
            "Количество этажей ['4' '8' '17' '2' '20' '18' '1' '10' '16' '5']\n",
            "\n",
            "Количество квартир ['50' 'Нет' '856' '387' '571' '601' '1' '244' '127' '124']\n",
            "\n",
            "Жилая площадь, м² ['2 223' 'Нет' '35 071' '23 290' '24 707' '28 993' '67' '13 570' '8 302'\n",
            " '4 627']\n",
            "\n",
            "Высота потолков, м ['2,7' 'Нет' '2,72 - 3,02' '2,7 - 3,32' '2,64 - 2,8' '2,64' '2,65' '2,85'\n",
            " '2,7 - 3' '2,74']\n",
            "\n",
            "Велосипедные дорожки ['Нет' 'Есть' nan]\n",
            "\n",
            "Количество детских площадок ['1' '2' '4' '3' '7' 'Нет' '5' '10' '6' '8']\n",
            "\n",
            "Количество спортивных площадок ['1' nan '5' '2' 'Нет' '3' '8' '4' '6' '9']\n",
            "\n",
            "Количество площадок для сбора мусора ['1' '3' '7' 'Нет' '2' '4' '8' '5' '6' '9']\n",
            "\n",
            "Количество мест в паркинге ['Нет' '296' '117' '65' '608' '89' '77' '497' '154' '228']\n",
            "\n",
            "Гостевые места на придомовой территории ['Нет' '296' '226' '117' '59' '288' '231' '2' '142' '67']\n",
            "\n",
            "Гостевые места вне придомовой территории ['Нет' '146' '163' '2' '308' '22' '157' '16' '101' '10']\n",
            "\n",
            "Наличие пандуса ['Есть' 'Нет' nan]\n",
            "\n",
            "Наличие понижающих площадок ['Есть' nan 'Нет']\n",
            "\n",
            "Количество инвалидных подъемников ['Нет' '8' '1' '3' '2' '5' '4' '10' '14' '13']\n",
            "\n",
            "Количество подъездов ['7' '-' '5' '3' '4' '1' '2' '10' '26' '6']\n",
            "\n",
            "Количество пассажирских лифтов ['Нет' '1' '5' '2' '28' '4' '7' '3' '10' '15']\n",
            "\n",
            "Количество грузовыхи грузопассажирских лифтов ['Нет' '5' '1' '9' '8' '2' '4' '3' '6' '15']\n",
            "\n",
            "Индекс доступности инфраструктуры [ 5. nan  6.  1.  8.  7. 10.  3.  9.  2.]\n",
            "\n",
            "Количество спортивныхплощадок [nan '1' 'Нет' '2' '10' '3' '6' '5' '7' '4']\n",
            "\n",
            "Наличие понижающихплощадок [nan 'Есть' 'Нет']\n",
            "\n",
            "Доступность инфраструктуры [nan  9.  7.  6.  8.  5.  3.  4.  1.  2.]\n",
            "\n",
            "Транспортная доступность [nan  2.  4.  1.  5.  6.  9.  3.  7. 10.]\n",
            "\n",
            "Индекс транспортной доступности [nan  6.  2.  1.  8.  7.  5.  3.  4.  9.]\n",
            "\n",
            "Зеленые зоны [nan  9.  8.  1.  7.  3.  4. 10.  2.  6.]\n",
            "\n",
            "Качество воздуха [nan  6.  8.  7.  9. 10.]\n",
            "\n",
            "Индекс зеленой зоны [nan  6. 10.  2.  5.  4.  3.  9.  7.  1.]\n",
            "\n",
            "Индекс качества воздуха [nan  6.  8.  7.  9.]\n",
            "\n"
          ]
        }
      ]
    },
    {
      "cell_type": "markdown",
      "source": [
        "# Поработает с пропусками и отсутствием информации"
      ],
      "metadata": {
        "id": "TL_4gR-3M3-B"
      }
    },
    {
      "cell_type": "markdown",
      "source": [
        "Посмотрим количесто пропусков по столбцам"
      ],
      "metadata": {
        "id": "koUq42wO4ECF"
      }
    },
    {
      "cell_type": "code",
      "source": [
        "df.isna().sum()"
      ],
      "metadata": {
        "colab": {
          "base_uri": "https://localhost:8080/"
        },
        "id": "NHoly1ne38tQ",
        "outputId": "70269ebd-d81a-4121-e63f-6d0f9e90db56"
      },
      "execution_count": 6,
      "outputs": [
        {
          "output_type": "execute_result",
          "data": {
            "text/plain": [
              "id                                                  0\n",
              "Название                                            0\n",
              "Класс энергетической эффективности                  0\n",
              "Ввод в эксплуатацию                                 0\n",
              "Класс недвижимости                                  0\n",
              "Материал стен                                       0\n",
              "Тип отделки                                         0\n",
              "Свободная планировка                                0\n",
              "Количество этажей                                   0\n",
              "Количество квартир                                  0\n",
              "Жилая площадь, м²                                   0\n",
              "Высота потолков, м                                  0\n",
              "Велосипедные дорожки                                1\n",
              "Количество детских площадок                         1\n",
              "Количество спортивных площадок                   4771\n",
              "Количество площадок для сбора мусора                1\n",
              "Количество мест в паркинге                          1\n",
              "Гостевые места на придомовой территории             2\n",
              "Гостевые места вне придомовой территории            2\n",
              "Наличие пандуса                                     3\n",
              "Наличие понижающих площадок                      4773\n",
              "Количество инвалидных подъемников                   3\n",
              "Количество подъездов                                3\n",
              "Количество пассажирских лифтов                      3\n",
              "Количество грузовыхи грузопассажирских лифтов       3\n",
              "Индекс доступности инфраструктуры                4774\n",
              "Количество спортивныхплощадок                    5030\n",
              "Наличие понижающихплощадок                       5030\n",
              "Доступность инфраструктуры                       5029\n",
              "Транспортная доступность                         8809\n",
              "Индекс транспортной доступности                  8989\n",
              "Зеленые зоны                                     9107\n",
              "Качество воздуха                                 9559\n",
              "Индекс зеленой зоны                              9340\n",
              "Индекс качества воздуха                          9724\n",
              "dtype: int64"
            ]
          },
          "metadata": {},
          "execution_count": 6
        }
      ]
    },
    {
      "cell_type": "markdown",
      "source": [
        "Есть несколько показателей для которых при парсинге значения разбились на две колонки с разными названиями, хотя это один и тот же показатель, например, \"Доступность инфраструктуры\",\"Индекс доступности инфраструктуры\" и другие. Объединим их:"
      ],
      "metadata": {
        "id": "NKgk4Ra3FvUG"
      }
    },
    {
      "cell_type": "code",
      "source": [
        "df['Количество спортивных площадок'] = df['Количество спортивных площадок'].fillna(df['Количество спортивныхплощадок'])\n",
        "df = df.drop('Количество спортивныхплощадок', axis=1)"
      ],
      "metadata": {
        "id": "qXwVa1xMLb2Y"
      },
      "execution_count": 7,
      "outputs": []
    },
    {
      "cell_type": "code",
      "source": [
        "df['Наличие понижающих площадок'] = df['Наличие понижающих площадок'].fillna(df['Наличие понижающихплощадок'])\n",
        "df = df.drop('Наличие понижающихплощадок', axis=1)"
      ],
      "metadata": {
        "id": "cgBF0WQnLHm7"
      },
      "execution_count": 8,
      "outputs": []
    },
    {
      "cell_type": "code",
      "source": [
        "df['Индекс доступности инфраструктуры'] = df['Индекс доступности инфраструктуры'].fillna(df['Доступность инфраструктуры'])\n",
        "df = df.drop('Доступность инфраструктуры', axis=1)"
      ],
      "metadata": {
        "id": "apj0_beXIwNk"
      },
      "execution_count": 9,
      "outputs": []
    },
    {
      "cell_type": "code",
      "source": [
        "df['Индекс транспортной доступности'] = df['Индекс транспортной доступности'].fillna(df['Транспортная доступность'])\n",
        "df = df.drop('Транспортная доступность', axis=1)"
      ],
      "metadata": {
        "id": "0ShFmKU6aud3"
      },
      "execution_count": 10,
      "outputs": []
    },
    {
      "cell_type": "code",
      "source": [
        "df['Индекс зеленой зоны'] = df['Индекс зеленой зоны'].fillna(df['Зеленые зоны'])\n",
        "df = df.drop('Зеленые зоны', axis=1)"
      ],
      "metadata": {
        "id": "uJ1an2qfbDAg"
      },
      "execution_count": 11,
      "outputs": []
    },
    {
      "cell_type": "code",
      "source": [
        "df['Индекс качества воздуха'] = df['Индекс качества воздуха'].fillna(df['Качество воздуха'])\n",
        "df = df.drop('Качество воздуха', axis=1)"
      ],
      "metadata": {
        "id": "w_NAfAMnbC0r"
      },
      "execution_count": 12,
      "outputs": []
    },
    {
      "cell_type": "markdown",
      "source": [
        "Посмотрим на количество строчек с разным количеством пропусков"
      ],
      "metadata": {
        "id": "nynhyXGm5ovp"
      }
    },
    {
      "cell_type": "code",
      "source": [
        "df.isnull().sum(axis=1).value_counts()"
      ],
      "metadata": {
        "colab": {
          "base_uri": "https://localhost:8080/"
        },
        "id": "xfX2PSmc5yrm",
        "outputId": "b56052a9-abbd-4e5c-d823-f32d8dab76eb"
      },
      "execution_count": 13,
      "outputs": [
        {
          "output_type": "execute_result",
          "data": {
            "text/plain": [
              "3     7798\n",
              "1      943\n",
              "2      891\n",
              "0      165\n",
              "17       1\n",
              "10       1\n",
              "12       1\n",
              "Name: count, dtype: int64"
            ]
          },
          "metadata": {},
          "execution_count": 13
        }
      ]
    },
    {
      "cell_type": "markdown",
      "source": [
        "У нас большая выборка, поэтому удалим строки, где 10 пропусков и больше"
      ],
      "metadata": {
        "id": "82gFuUy9iaTQ"
      }
    },
    {
      "cell_type": "code",
      "source": [
        "df = df.drop(df[df.isnull().sum(axis=1) > 9].index) #таким образом удалим всего 3 строки"
      ],
      "metadata": {
        "id": "MlFTIbVCigwI"
      },
      "execution_count": 14,
      "outputs": []
    },
    {
      "cell_type": "markdown",
      "source": [
        "В колонке \"Количество подъездов\" встречается значение \"-\", его нужно заменить на Nan, так как это отсутствие информации (в остальных колонках такого нет)"
      ],
      "metadata": {
        "id": "3qVJT7UO6lcr"
      }
    },
    {
      "cell_type": "code",
      "source": [
        "df['Количество подъездов'] = df['Количество подъездов'].replace('-', pd.NA)"
      ],
      "metadata": {
        "id": "rMJHN57V6VTc"
      },
      "execution_count": 15,
      "outputs": []
    },
    {
      "cell_type": "markdown",
      "source": [
        "Для жилой площади мы предполагаем, что \"Нет\" указывает на ее отсутствие, поэтому ставим 0; аналогично, как и количество подъездов:"
      ],
      "metadata": {
        "id": "CxyOvhIqMnoY"
      }
    },
    {
      "cell_type": "code",
      "source": [
        "df['Жилая площадь, м²'] = df['Жилая площадь, м²'].str.replace(' ', '').replace('Нет', 0).astype(float)"
      ],
      "metadata": {
        "id": "r712_G_QdQMf"
      },
      "execution_count": 16,
      "outputs": []
    },
    {
      "cell_type": "code",
      "source": [
        "df['Количество подъездов'] = df['Количество подъездов'].replace(pd.NA, 0)"
      ],
      "metadata": {
        "id": "ksa7W0c-CIOF"
      },
      "execution_count": 17,
      "outputs": []
    },
    {
      "cell_type": "code",
      "source": [
        "col_bool = ['Велосипедные дорожки', 'Наличие пандуса', 'Наличие понижающих площадок','Свободная планировка']\n",
        "for col in col_bool:\n",
        "  df[col] = df[col].map(lambda x: True if x == 'Есть' else False)"
      ],
      "metadata": {
        "id": "iSP7CeUdjNdW"
      },
      "execution_count": 18,
      "outputs": []
    },
    {
      "cell_type": "code",
      "source": [
        "col_int = ['Количество этажей', 'Количество квартир', 'Количество детских площадок', 'Количество спортивных площадок',\n",
        "           'Количество площадок для сбора мусора', 'Количество мест в паркинге', 'Гостевые места на придомовой территории',\n",
        "           'Гостевые места вне придомовой территории', 'Количество инвалидных подъемников', 'Количество подъездов',\n",
        "           'Количество пассажирских лифтов', 'Количество грузовыхи грузопассажирских лифтов', 'Индекс доступности инфраструктуры']\n",
        "for col in col_int:\n",
        "  df[col] = df[col].replace('Нет', 0).astype(int)"
      ],
      "metadata": {
        "id": "jl1uy5MclsI4"
      },
      "execution_count": 19,
      "outputs": []
    },
    {
      "cell_type": "markdown",
      "source": [
        "Заменим нули в \"Количество этажей\" и Количество подъездов на Nan, так как это пропуски"
      ],
      "metadata": {
        "id": "dM-ccgz1SASF"
      }
    },
    {
      "cell_type": "code",
      "source": [
        "df['Количество этажей'] = df['Количество этажей'].replace(0, pd.NA)\n",
        "df['Количество подъездов'] = df['Количество подъездов'].replace(0, pd.NA)"
      ],
      "metadata": {
        "id": "XkNncToQSG5Q"
      },
      "execution_count": 20,
      "outputs": []
    },
    {
      "cell_type": "markdown",
      "source": [
        "Класс энергетической эффективности \"Не нормируется\" и Класс недвижимости \"Другое\" встречаются только в недвижимости, где нет жилой площади (это можно будет увидеть дальше в коде), а так как мы рассматриваем только жилую недвижимость, то их мы заменяем на Nan"
      ],
      "metadata": {
        "id": "gujg_HNfNwOd"
      }
    },
    {
      "cell_type": "code",
      "source": [
        "df['Класс энергетической эффективности'] = df['Класс энергетической эффективности'].replace('Не нормируется', pd.NA)\n",
        "categories = ['G', 'E', 'D', 'C', 'B', 'A', 'A+', 'A++']\n",
        "df['Класс энергетической эффективности'] = pd.Categorical(df['Класс энергетической эффективности'], categories=categories, ordered=True)"
      ],
      "metadata": {
        "id": "By_kr0jXqvYN"
      },
      "execution_count": 21,
      "outputs": []
    },
    {
      "cell_type": "code",
      "source": [
        "df['Класс недвижимости'] = df['Класс недвижимости'].replace('Другое', pd.NA)\n",
        "categories = ['Типовой', 'Комфорт', 'Бизнес', 'Элитный']\n",
        "df['Класс недвижимости'] = pd.Categorical(df['Класс недвижимости'], categories=categories, ordered=True)"
      ],
      "metadata": {
        "id": "_dmTVQfPtOnT"
      },
      "execution_count": 22,
      "outputs": []
    },
    {
      "cell_type": "code",
      "source": [
        "df['Тип отделки'] = df['Тип отделки'].replace('Нет', '0').apply(lambda x: ''.join(filter(str.isdigit, x))).astype(int)"
      ],
      "metadata": {
        "id": "Ii4BZQj4uk9G"
      },
      "execution_count": 23,
      "outputs": []
    },
    {
      "cell_type": "code",
      "source": [
        "df['Высота потолков, м'] = df['Высота потолков, м'].replace('Нет', '0 - 0')\n",
        "df.insert(df.columns.get_loc('Высота потолков, м')+1, 'Минимальная высота потолков, м', df['Высота потолков, м'].apply(lambda x: x.split(' ')[0]).apply(lambda x: x.replace(',', '.')).astype(float))"
      ],
      "metadata": {
        "id": "DzaqbjqXxRXL"
      },
      "execution_count": 24,
      "outputs": []
    },
    {
      "cell_type": "code",
      "source": [
        "df.insert(df.columns.get_loc('Высота потолков, м')+2, 'Максимальная высота потолков, м', df['Высота потолков, м'].apply(lambda x: x.split(' ')[-1].replace(',', '.') if '-' in x else None))\n",
        "df['Максимальная высота потолков, м'] = df['Максимальная высота потолков, м'].fillna(df['Минимальная высота потолков, м']).astype(float)\n"
      ],
      "metadata": {
        "id": "CRohwEYD21N_"
      },
      "execution_count": 25,
      "outputs": []
    },
    {
      "cell_type": "markdown",
      "source": [
        "Теперь во всех колонках про потолки заменим нули на Nan, так как это пропуски"
      ],
      "metadata": {
        "id": "6noM9oTQQ3qx"
      }
    },
    {
      "cell_type": "code",
      "source": [
        "df['Максимальная высота потолков, м'] = df['Максимальная высота потолков, м'].replace(0, pd.NA)\n",
        "df['Минимальная высота потолков, м'] = df['Минимальная высота потолков, м'].replace(0, pd.NA)\n",
        "df['Высота потолков, м'] = df['Высота потолков, м'].replace('0 - 0', pd.NA)"
      ],
      "metadata": {
        "id": "3b1s9RIQQ_Hz"
      },
      "execution_count": 26,
      "outputs": []
    },
    {
      "cell_type": "markdown",
      "source": [
        "В целом нам дальше не понадобится столбик с интервальным значением потолков, поэтому его можно удалить."
      ],
      "metadata": {
        "id": "DInJO9IYHjpd"
      }
    },
    {
      "cell_type": "code",
      "source": [
        "df = df.drop('Высота потолков, м', axis=1)"
      ],
      "metadata": {
        "id": "Nas-TdNXHrwK"
      },
      "execution_count": 27,
      "outputs": []
    },
    {
      "cell_type": "code",
      "source": [
        "df['Ввод в эксплуатацию'] = df['Ввод в эксплуатацию'].apply(lambda x: x.split()[-1] + 'Q' + str(x.split(' ')[0]))\n",
        "df['Ввод в эксплуатацию'] = df['Ввод в эксплуатацию'].apply(lambda x: x.replace(x.split('Q')[-1], {'I': '1', 'II': '2', 'III': '3', 'IV': '4'}[x.split('Q')[-1]]))"
      ],
      "metadata": {
        "id": "MMUXw_3IaJeG"
      },
      "execution_count": 28,
      "outputs": []
    },
    {
      "cell_type": "markdown",
      "source": [
        "Нам интересно смотреть в целом на количество парковочных мест, но не так важно смотреть в разрезе гоствых/негостевых мест, поэтому сразу объединим колонки: Количество мест в паркинге, Гостевые места на придомовой территории, Гостевые места вне придомовой территории."
      ],
      "metadata": {
        "id": "A5XlBa0UGt4r"
      }
    },
    {
      "cell_type": "code",
      "source": [
        "df['Количество мест в паркинге'] = df['Количество мест в паркинге'] + df['Гостевые места на придомовой территории'] + df['Гостевые места вне придомовой территории']\n",
        "df = df.drop(['Гостевые места на придомовой территории', 'Гостевые места вне придомовой территории'], axis=1)"
      ],
      "metadata": {
        "id": "Tm7T8h7sGnf7"
      },
      "execution_count": 29,
      "outputs": []
    },
    {
      "cell_type": "markdown",
      "source": [
        "А теперь поработаем с парковками. В данных есть строчки, обозначающие подземные или отдельностоящие паркинги для разных жк. Распределим эти парковочные места пропорционально квартирам по домам этих жк"
      ],
      "metadata": {
        "id": "o8Be3p1F3orX"
      }
    },
    {
      "cell_type": "code",
      "source": [
        "#создадим вспомогательную таблицу где просуммируем общее количество квартир для каждого жк\n",
        "df_parking = df[(df['Жилая площадь, м²'] > 0)].groupby('Название').agg({ 'Количество квартир': 'sum' }).reset_index()\n",
        "#создадим табличку где есть общее количество для жк дополнительных парковочных мест из объектов где жилая площадь равна нулю\n",
        "places = df[df['Жилая площадь, м²'] == 0].groupby('Название')['Количество мест в паркинге'].sum().reset_index()\n",
        "#объединим эти две вспомогательные таблички\n",
        "df_parking = df_parking.merge(places, on='Название', how='left').fillna({'Количество мест в паркинге': 0})\n",
        "#добавим колонку со средним количеством мест на квартиру\n",
        "df_parking['Количество мест на квартиру']=df_parking['Количество мест в паркинге']/df_parking['Количество квартир']\n",
        "#переименуем две колонки, чтобы они отличались от колонок в изначальной таблице\n",
        "df_parking = df_parking.rename(columns={'Количество мест в паркинге': 'Доп паркинг', 'Количество квартир': 'Количество квартир в жк'})\n",
        "df_parking"
      ],
      "metadata": {
        "colab": {
          "base_uri": "https://localhost:8080/",
          "height": 424
        },
        "id": "9Zla7xAf37XA",
        "outputId": "f1b92be1-aa0a-4bd2-e134-91d508adf25e"
      },
      "execution_count": 30,
      "outputs": [
        {
          "output_type": "execute_result",
          "data": {
            "text/plain": [
              "                                               Название  \\\n",
              "0                         \"5 БАЛЛОВ\" Парк ЭКО кварталов   \n",
              "1                        \"NEO-квартал \"Красная площадь\"   \n",
              "2                                                \"URBN\"   \n",
              "3                                             \"Zenlife\"   \n",
              "4                                         \"АРТ-Квартал\"   \n",
              "...                                                 ...   \n",
              "4961          ст-ца Ессентукская, ул Эскадронная, д. 75   \n",
              "4962       ст-ца Тамань, улица Карла Маркса, д. 262 \"А\"   \n",
              "4963  тер Автодорога Владикавказ-Алагир (с Гизель), ...   \n",
              "4964                                    тер. СНТ Дружба   \n",
              "4965                            эко-квартал FLORA&FAUNA   \n",
              "\n",
              "      Количество квартир в жк  Доп паркинг  Количество мест на квартиру  \n",
              "0                          98          0.0                     0.000000  \n",
              "1                         585          0.0                     0.000000  \n",
              "2                         231         23.0                     0.099567  \n",
              "3                         227          0.0                     0.000000  \n",
              "4                        1350          0.0                     0.000000  \n",
              "...                       ...          ...                          ...  \n",
              "4961                      322          0.0                     0.000000  \n",
              "4962                      199          0.0                     0.000000  \n",
              "4963                      897          0.0                     0.000000  \n",
              "4964                       40          0.0                     0.000000  \n",
              "4965                      428          0.0                     0.000000  \n",
              "\n",
              "[4966 rows x 4 columns]"
            ],
            "text/html": [
              "\n",
              "  <div id=\"df-0ea15a77-e8ce-4643-a26b-7a368ad54ad7\" class=\"colab-df-container\">\n",
              "    <div>\n",
              "<style scoped>\n",
              "    .dataframe tbody tr th:only-of-type {\n",
              "        vertical-align: middle;\n",
              "    }\n",
              "\n",
              "    .dataframe tbody tr th {\n",
              "        vertical-align: top;\n",
              "    }\n",
              "\n",
              "    .dataframe thead th {\n",
              "        text-align: right;\n",
              "    }\n",
              "</style>\n",
              "<table border=\"1\" class=\"dataframe\">\n",
              "  <thead>\n",
              "    <tr style=\"text-align: right;\">\n",
              "      <th></th>\n",
              "      <th>Название</th>\n",
              "      <th>Количество квартир в жк</th>\n",
              "      <th>Доп паркинг</th>\n",
              "      <th>Количество мест на квартиру</th>\n",
              "    </tr>\n",
              "  </thead>\n",
              "  <tbody>\n",
              "    <tr>\n",
              "      <th>0</th>\n",
              "      <td>\"5 БАЛЛОВ\" Парк ЭКО кварталов</td>\n",
              "      <td>98</td>\n",
              "      <td>0.0</td>\n",
              "      <td>0.000000</td>\n",
              "    </tr>\n",
              "    <tr>\n",
              "      <th>1</th>\n",
              "      <td>\"NEO-квартал \"Красная площадь\"</td>\n",
              "      <td>585</td>\n",
              "      <td>0.0</td>\n",
              "      <td>0.000000</td>\n",
              "    </tr>\n",
              "    <tr>\n",
              "      <th>2</th>\n",
              "      <td>\"URBN\"</td>\n",
              "      <td>231</td>\n",
              "      <td>23.0</td>\n",
              "      <td>0.099567</td>\n",
              "    </tr>\n",
              "    <tr>\n",
              "      <th>3</th>\n",
              "      <td>\"Zenlife\"</td>\n",
              "      <td>227</td>\n",
              "      <td>0.0</td>\n",
              "      <td>0.000000</td>\n",
              "    </tr>\n",
              "    <tr>\n",
              "      <th>4</th>\n",
              "      <td>\"АРТ-Квартал\"</td>\n",
              "      <td>1350</td>\n",
              "      <td>0.0</td>\n",
              "      <td>0.000000</td>\n",
              "    </tr>\n",
              "    <tr>\n",
              "      <th>...</th>\n",
              "      <td>...</td>\n",
              "      <td>...</td>\n",
              "      <td>...</td>\n",
              "      <td>...</td>\n",
              "    </tr>\n",
              "    <tr>\n",
              "      <th>4961</th>\n",
              "      <td>ст-ца Ессентукская, ул Эскадронная, д. 75</td>\n",
              "      <td>322</td>\n",
              "      <td>0.0</td>\n",
              "      <td>0.000000</td>\n",
              "    </tr>\n",
              "    <tr>\n",
              "      <th>4962</th>\n",
              "      <td>ст-ца Тамань, улица Карла Маркса, д. 262 \"А\"</td>\n",
              "      <td>199</td>\n",
              "      <td>0.0</td>\n",
              "      <td>0.000000</td>\n",
              "    </tr>\n",
              "    <tr>\n",
              "      <th>4963</th>\n",
              "      <td>тер Автодорога Владикавказ-Алагир (с Гизель), ...</td>\n",
              "      <td>897</td>\n",
              "      <td>0.0</td>\n",
              "      <td>0.000000</td>\n",
              "    </tr>\n",
              "    <tr>\n",
              "      <th>4964</th>\n",
              "      <td>тер. СНТ Дружба</td>\n",
              "      <td>40</td>\n",
              "      <td>0.0</td>\n",
              "      <td>0.000000</td>\n",
              "    </tr>\n",
              "    <tr>\n",
              "      <th>4965</th>\n",
              "      <td>эко-квартал FLORA&amp;FAUNA</td>\n",
              "      <td>428</td>\n",
              "      <td>0.0</td>\n",
              "      <td>0.000000</td>\n",
              "    </tr>\n",
              "  </tbody>\n",
              "</table>\n",
              "<p>4966 rows × 4 columns</p>\n",
              "</div>\n",
              "    <div class=\"colab-df-buttons\">\n",
              "\n",
              "  <div class=\"colab-df-container\">\n",
              "    <button class=\"colab-df-convert\" onclick=\"convertToInteractive('df-0ea15a77-e8ce-4643-a26b-7a368ad54ad7')\"\n",
              "            title=\"Convert this dataframe to an interactive table.\"\n",
              "            style=\"display:none;\">\n",
              "\n",
              "  <svg xmlns=\"http://www.w3.org/2000/svg\" height=\"24px\" viewBox=\"0 -960 960 960\">\n",
              "    <path d=\"M120-120v-720h720v720H120Zm60-500h600v-160H180v160Zm220 220h160v-160H400v160Zm0 220h160v-160H400v160ZM180-400h160v-160H180v160Zm440 0h160v-160H620v160ZM180-180h160v-160H180v160Zm440 0h160v-160H620v160Z\"/>\n",
              "  </svg>\n",
              "    </button>\n",
              "\n",
              "  <style>\n",
              "    .colab-df-container {\n",
              "      display:flex;\n",
              "      gap: 12px;\n",
              "    }\n",
              "\n",
              "    .colab-df-convert {\n",
              "      background-color: #E8F0FE;\n",
              "      border: none;\n",
              "      border-radius: 50%;\n",
              "      cursor: pointer;\n",
              "      display: none;\n",
              "      fill: #1967D2;\n",
              "      height: 32px;\n",
              "      padding: 0 0 0 0;\n",
              "      width: 32px;\n",
              "    }\n",
              "\n",
              "    .colab-df-convert:hover {\n",
              "      background-color: #E2EBFA;\n",
              "      box-shadow: 0px 1px 2px rgba(60, 64, 67, 0.3), 0px 1px 3px 1px rgba(60, 64, 67, 0.15);\n",
              "      fill: #174EA6;\n",
              "    }\n",
              "\n",
              "    .colab-df-buttons div {\n",
              "      margin-bottom: 4px;\n",
              "    }\n",
              "\n",
              "    [theme=dark] .colab-df-convert {\n",
              "      background-color: #3B4455;\n",
              "      fill: #D2E3FC;\n",
              "    }\n",
              "\n",
              "    [theme=dark] .colab-df-convert:hover {\n",
              "      background-color: #434B5C;\n",
              "      box-shadow: 0px 1px 3px 1px rgba(0, 0, 0, 0.15);\n",
              "      filter: drop-shadow(0px 1px 2px rgba(0, 0, 0, 0.3));\n",
              "      fill: #FFFFFF;\n",
              "    }\n",
              "  </style>\n",
              "\n",
              "    <script>\n",
              "      const buttonEl =\n",
              "        document.querySelector('#df-0ea15a77-e8ce-4643-a26b-7a368ad54ad7 button.colab-df-convert');\n",
              "      buttonEl.style.display =\n",
              "        google.colab.kernel.accessAllowed ? 'block' : 'none';\n",
              "\n",
              "      async function convertToInteractive(key) {\n",
              "        const element = document.querySelector('#df-0ea15a77-e8ce-4643-a26b-7a368ad54ad7');\n",
              "        const dataTable =\n",
              "          await google.colab.kernel.invokeFunction('convertToInteractive',\n",
              "                                                    [key], {});\n",
              "        if (!dataTable) return;\n",
              "\n",
              "        const docLinkHtml = 'Like what you see? Visit the ' +\n",
              "          '<a target=\"_blank\" href=https://colab.research.google.com/notebooks/data_table.ipynb>data table notebook</a>'\n",
              "          + ' to learn more about interactive tables.';\n",
              "        element.innerHTML = '';\n",
              "        dataTable['output_type'] = 'display_data';\n",
              "        await google.colab.output.renderOutput(dataTable, element);\n",
              "        const docLink = document.createElement('div');\n",
              "        docLink.innerHTML = docLinkHtml;\n",
              "        element.appendChild(docLink);\n",
              "      }\n",
              "    </script>\n",
              "  </div>\n",
              "\n",
              "\n",
              "<div id=\"df-6594feea-da91-482c-a5f8-90f8e36b9e83\">\n",
              "  <button class=\"colab-df-quickchart\" onclick=\"quickchart('df-6594feea-da91-482c-a5f8-90f8e36b9e83')\"\n",
              "            title=\"Suggest charts\"\n",
              "            style=\"display:none;\">\n",
              "\n",
              "<svg xmlns=\"http://www.w3.org/2000/svg\" height=\"24px\"viewBox=\"0 0 24 24\"\n",
              "     width=\"24px\">\n",
              "    <g>\n",
              "        <path d=\"M19 3H5c-1.1 0-2 .9-2 2v14c0 1.1.9 2 2 2h14c1.1 0 2-.9 2-2V5c0-1.1-.9-2-2-2zM9 17H7v-7h2v7zm4 0h-2V7h2v10zm4 0h-2v-4h2v4z\"/>\n",
              "    </g>\n",
              "</svg>\n",
              "  </button>\n",
              "\n",
              "<style>\n",
              "  .colab-df-quickchart {\n",
              "      --bg-color: #E8F0FE;\n",
              "      --fill-color: #1967D2;\n",
              "      --hover-bg-color: #E2EBFA;\n",
              "      --hover-fill-color: #174EA6;\n",
              "      --disabled-fill-color: #AAA;\n",
              "      --disabled-bg-color: #DDD;\n",
              "  }\n",
              "\n",
              "  [theme=dark] .colab-df-quickchart {\n",
              "      --bg-color: #3B4455;\n",
              "      --fill-color: #D2E3FC;\n",
              "      --hover-bg-color: #434B5C;\n",
              "      --hover-fill-color: #FFFFFF;\n",
              "      --disabled-bg-color: #3B4455;\n",
              "      --disabled-fill-color: #666;\n",
              "  }\n",
              "\n",
              "  .colab-df-quickchart {\n",
              "    background-color: var(--bg-color);\n",
              "    border: none;\n",
              "    border-radius: 50%;\n",
              "    cursor: pointer;\n",
              "    display: none;\n",
              "    fill: var(--fill-color);\n",
              "    height: 32px;\n",
              "    padding: 0;\n",
              "    width: 32px;\n",
              "  }\n",
              "\n",
              "  .colab-df-quickchart:hover {\n",
              "    background-color: var(--hover-bg-color);\n",
              "    box-shadow: 0 1px 2px rgba(60, 64, 67, 0.3), 0 1px 3px 1px rgba(60, 64, 67, 0.15);\n",
              "    fill: var(--button-hover-fill-color);\n",
              "  }\n",
              "\n",
              "  .colab-df-quickchart-complete:disabled,\n",
              "  .colab-df-quickchart-complete:disabled:hover {\n",
              "    background-color: var(--disabled-bg-color);\n",
              "    fill: var(--disabled-fill-color);\n",
              "    box-shadow: none;\n",
              "  }\n",
              "\n",
              "  .colab-df-spinner {\n",
              "    border: 2px solid var(--fill-color);\n",
              "    border-color: transparent;\n",
              "    border-bottom-color: var(--fill-color);\n",
              "    animation:\n",
              "      spin 1s steps(1) infinite;\n",
              "  }\n",
              "\n",
              "  @keyframes spin {\n",
              "    0% {\n",
              "      border-color: transparent;\n",
              "      border-bottom-color: var(--fill-color);\n",
              "      border-left-color: var(--fill-color);\n",
              "    }\n",
              "    20% {\n",
              "      border-color: transparent;\n",
              "      border-left-color: var(--fill-color);\n",
              "      border-top-color: var(--fill-color);\n",
              "    }\n",
              "    30% {\n",
              "      border-color: transparent;\n",
              "      border-left-color: var(--fill-color);\n",
              "      border-top-color: var(--fill-color);\n",
              "      border-right-color: var(--fill-color);\n",
              "    }\n",
              "    40% {\n",
              "      border-color: transparent;\n",
              "      border-right-color: var(--fill-color);\n",
              "      border-top-color: var(--fill-color);\n",
              "    }\n",
              "    60% {\n",
              "      border-color: transparent;\n",
              "      border-right-color: var(--fill-color);\n",
              "    }\n",
              "    80% {\n",
              "      border-color: transparent;\n",
              "      border-right-color: var(--fill-color);\n",
              "      border-bottom-color: var(--fill-color);\n",
              "    }\n",
              "    90% {\n",
              "      border-color: transparent;\n",
              "      border-bottom-color: var(--fill-color);\n",
              "    }\n",
              "  }\n",
              "</style>\n",
              "\n",
              "  <script>\n",
              "    async function quickchart(key) {\n",
              "      const quickchartButtonEl =\n",
              "        document.querySelector('#' + key + ' button');\n",
              "      quickchartButtonEl.disabled = true;  // To prevent multiple clicks.\n",
              "      quickchartButtonEl.classList.add('colab-df-spinner');\n",
              "      try {\n",
              "        const charts = await google.colab.kernel.invokeFunction(\n",
              "            'suggestCharts', [key], {});\n",
              "      } catch (error) {\n",
              "        console.error('Error during call to suggestCharts:', error);\n",
              "      }\n",
              "      quickchartButtonEl.classList.remove('colab-df-spinner');\n",
              "      quickchartButtonEl.classList.add('colab-df-quickchart-complete');\n",
              "    }\n",
              "    (() => {\n",
              "      let quickchartButtonEl =\n",
              "        document.querySelector('#df-6594feea-da91-482c-a5f8-90f8e36b9e83 button');\n",
              "      quickchartButtonEl.style.display =\n",
              "        google.colab.kernel.accessAllowed ? 'block' : 'none';\n",
              "    })();\n",
              "  </script>\n",
              "</div>\n",
              "    </div>\n",
              "  </div>\n"
            ],
            "application/vnd.google.colaboratory.intrinsic+json": {
              "type": "dataframe",
              "variable_name": "df_parking",
              "summary": "{\n  \"name\": \"df_parking\",\n  \"rows\": 4966,\n  \"fields\": [\n    {\n      \"column\": \"\\u041d\\u0430\\u0437\\u0432\\u0430\\u043d\\u0438\\u0435\",\n      \"properties\": {\n        \"dtype\": \"string\",\n        \"num_unique_values\": 4966,\n        \"samples\": [\n          \"\\u0420\\u0415\\u041a\\u0410\",\n          \"\\u0416\\u0438\\u043b\\u043e\\u0439 \\u041a\\u043e\\u043c\\u043f\\u043b\\u0435\\u043a\\u0441 \\u0414\\u043e\\u043c \\u041d\\u0430 \\u041a\\u0430\\u0440\\u043f\\u0438\\u043d\\u0441\\u043a\\u043e\\u0433\\u043e\",\n          \"\\u0416\\u041a \\\"\\u042f\\u0440\\u0430\\u0442\\u0430\\u043c\\\"\"\n        ],\n        \"semantic_type\": \"\",\n        \"description\": \"\"\n      }\n    },\n    {\n      \"column\": \"\\u041a\\u043e\\u043b\\u0438\\u0447\\u0435\\u0441\\u0442\\u0432\\u043e \\u043a\\u0432\\u0430\\u0440\\u0442\\u0438\\u0440 \\u0432 \\u0436\\u043a\",\n      \"properties\": {\n        \"dtype\": \"number\",\n        \"std\": 613,\n        \"min\": 1,\n        \"max\": 14221,\n        \"num_unique_values\": 1179,\n        \"samples\": [\n          363,\n          55,\n          492\n        ],\n        \"semantic_type\": \"\",\n        \"description\": \"\"\n      }\n    },\n    {\n      \"column\": \"\\u0414\\u043e\\u043f \\u043f\\u0430\\u0440\\u043a\\u0438\\u043d\\u0433\",\n      \"properties\": {\n        \"dtype\": \"number\",\n        \"std\": 258.40762585458845,\n        \"min\": 0.0,\n        \"max\": 11061.0,\n        \"num_unique_values\": 251,\n        \"samples\": [\n          61.0,\n          60.0,\n          641.0\n        ],\n        \"semantic_type\": \"\",\n        \"description\": \"\"\n      }\n    },\n    {\n      \"column\": \"\\u041a\\u043e\\u043b\\u0438\\u0447\\u0435\\u0441\\u0442\\u0432\\u043e \\u043c\\u0435\\u0441\\u0442 \\u043d\\u0430 \\u043a\\u0432\\u0430\\u0440\\u0442\\u0438\\u0440\\u0443\",\n      \"properties\": {\n        \"dtype\": \"number\",\n        \"std\": 0.3135201562768983,\n        \"min\": 0.0,\n        \"max\": 11.029411764705882,\n        \"num_unique_values\": 305,\n        \"samples\": [\n          0.25274725274725274,\n          0.23768115942028986,\n          0.8393285371702638\n        ],\n        \"semantic_type\": \"\",\n        \"description\": \"\"\n      }\n    }\n  ]\n}"
            }
          },
          "metadata": {},
          "execution_count": 30
        }
      ]
    },
    {
      "cell_type": "code",
      "source": [
        "#добавим вспомогательную таблицу к изначальной\n",
        "df = df.merge(df_parking, on='Название')\n",
        "#распределим дополнительные места по объектам\n",
        "df['Количество мест в паркинге'] = df['Количество мест в паркинге'] + (df['Количество мест на квартиру'] * df['Количество квартир'])\n",
        "# Удалим ненужные колонки\n",
        "df = df.drop(['Количество квартир в жк', 'Доп паркинг', 'Количество мест на квартиру'], axis=1)\n",
        "#Вернемся к нужному типу колонки\n",
        "df['Количество мест в паркинге'] = df['Количество мест в паркинге'].astype(int)"
      ],
      "metadata": {
        "id": "PQzygsnmTuil"
      },
      "execution_count": 31,
      "outputs": []
    },
    {
      "cell_type": "markdown",
      "source": [
        "#Далее рассмотрим жилую недвижимость"
      ],
      "metadata": {
        "id": "qbdPvny1X4w-"
      }
    },
    {
      "cell_type": "markdown",
      "source": [
        "Создадим новую табличку, где будет только жилая недвижимость (жилая площадь не 0)"
      ],
      "metadata": {
        "id": "X9w2_ZaolW25"
      }
    },
    {
      "cell_type": "code",
      "source": [
        "df_resid = df.loc[df['Жилая площадь, м²'] != 0]"
      ],
      "metadata": {
        "id": "csJfpe1Hk37N"
      },
      "execution_count": 32,
      "outputs": []
    },
    {
      "cell_type": "code",
      "source": [
        "df_resid.isna().sum()"
      ],
      "metadata": {
        "colab": {
          "base_uri": "https://localhost:8080/"
        },
        "id": "LSrxadNuCtJS",
        "outputId": "33813e84-249d-40cc-b993-09b3218010f3"
      },
      "execution_count": 33,
      "outputs": [
        {
          "output_type": "execute_result",
          "data": {
            "text/plain": [
              "id                                                  0\n",
              "Название                                            0\n",
              "Класс энергетической эффективности                  0\n",
              "Ввод в эксплуатацию                                 0\n",
              "Класс недвижимости                                  0\n",
              "Материал стен                                       0\n",
              "Тип отделки                                         0\n",
              "Свободная планировка                                0\n",
              "Количество этажей                                   0\n",
              "Количество квартир                                  0\n",
              "Жилая площадь, м²                                   0\n",
              "Минимальная высота потолков, м                     14\n",
              "Максимальная высота потолков, м                    14\n",
              "Велосипедные дорожки                                0\n",
              "Количество детских площадок                         0\n",
              "Количество спортивных площадок                      0\n",
              "Количество площадок для сбора мусора                0\n",
              "Количество мест в паркинге                          0\n",
              "Наличие пандуса                                     0\n",
              "Наличие понижающих площадок                         0\n",
              "Количество инвалидных подъемников                   0\n",
              "Количество подъездов                                1\n",
              "Количество пассажирских лифтов                      0\n",
              "Количество грузовыхи грузопассажирских лифтов       0\n",
              "Индекс доступности инфраструктуры                   0\n",
              "Индекс транспортной доступности                  7138\n",
              "Индекс зеленой зоны                              7718\n",
              "Индекс качества воздуха                          8363\n",
              "dtype: int64"
            ]
          },
          "metadata": {},
          "execution_count": 33
        }
      ]
    },
    {
      "cell_type": "markdown",
      "source": [
        "У нас есть одно наблюдение для жилых домов, где количество подъездов 0. Мы посмотрели на фотографии этого дома https://наш.дом.рф/сервисы/каталог-новостроек/объект/23862 и пришли к выводу, что там один подъезд, поэтому доплним эту информацию"
      ],
      "metadata": {
        "id": "dBnPQogEBiDe"
      }
    },
    {
      "cell_type": "code",
      "source": [
        "df_resid.at[7682, 'Количество подъездов'] = 1"
      ],
      "metadata": {
        "id": "T1XCnB2IAF4E"
      },
      "execution_count": 34,
      "outputs": []
    },
    {
      "cell_type": "markdown",
      "source": [
        "Для жилой недвижимости пропуски только в 14 строках в колонках, связанных с высотой потолка. Заменим эти значения на медиану."
      ],
      "metadata": {
        "id": "nDuCc6-Wpvic"
      }
    },
    {
      "cell_type": "code",
      "source": [
        "df['Минимальная высота потолков, м'].fillna(df['Минимальная высота потолков, м'].median(), inplace=True)\n",
        "df['Максимальная высота потолков, м'].fillna(df['Максимальная высота потолков, м'].median(), inplace=True)"
      ],
      "metadata": {
        "id": "2wL4egRdo8j3"
      },
      "execution_count": 35,
      "outputs": []
    },
    {
      "cell_type": "markdown",
      "source": [
        "Посмотрим какие классы ЭЭ и недвижимости встречаются среди жилых домов."
      ],
      "metadata": {
        "id": "nGs-jzbdbY8g"
      }
    },
    {
      "cell_type": "code",
      "source": [
        "df_resid['Класс энергетической эффективности'].value_counts()"
      ],
      "metadata": {
        "colab": {
          "base_uri": "https://localhost:8080/"
        },
        "id": "7PLXK2Tk3NxY",
        "outputId": "88982b02-e7ae-452e-baa5-a585fe454ba7"
      },
      "execution_count": 36,
      "outputs": [
        {
          "output_type": "execute_result",
          "data": {
            "text/plain": [
              "Класс энергетической эффективности\n",
              "B      4146\n",
              "A      1545\n",
              "C      1535\n",
              "A+      718\n",
              "A++     450\n",
              "D       216\n",
              "E         5\n",
              "G         1\n",
              "Name: count, dtype: int64"
            ]
          },
          "metadata": {},
          "execution_count": 36
        }
      ]
    },
    {
      "cell_type": "code",
      "source": [
        "df_resid['Класс недвижимости'].value_counts()"
      ],
      "metadata": {
        "colab": {
          "base_uri": "https://localhost:8080/"
        },
        "id": "R2oZ8SPc5BpR",
        "outputId": "520e7486-1a50-4e85-9864-fbf0bfb3fcef"
      },
      "execution_count": 37,
      "outputs": [
        {
          "output_type": "execute_result",
          "data": {
            "text/plain": [
              "Класс недвижимости\n",
              "Комфорт    5038\n",
              "Типовой    2581\n",
              "Бизнес      785\n",
              "Элитный     212\n",
              "Name: count, dtype: int64"
            ]
          },
          "metadata": {},
          "execution_count": 37
        }
      ]
    },
    {
      "cell_type": "markdown",
      "source": [
        "Так как тут нет категорий \"Другое\" и \"Не нормируется\", то в первоначальной табличке мы их убрали, так как рассматриваем только жилую недвижимость. (этот момент уточнялся в коде выше)"
      ],
      "metadata": {
        "id": "DW6VOMxRbgBM"
      }
    },
    {
      "cell_type": "markdown",
      "source": [
        "#Добавляем производные признаки"
      ],
      "metadata": {
        "id": "tgBRMFSkgbsd"
      }
    },
    {
      "cell_type": "markdown",
      "source": [
        "1. Первый производный признак - средняя площадь квартиры"
      ],
      "metadata": {
        "id": "eXs8dq8IXLz6"
      }
    },
    {
      "cell_type": "code",
      "source": [
        "df_resid.insert(df_resid.columns.get_loc('Жилая площадь, м²')+1, 'Средняя площадь квартиры, м²', df_resid['Жилая площадь, м²'] / df_resid['Количество квартир'])\n",
        "df_resid['Средняя площадь квартиры, м²'].fillna(0, inplace=True)"
      ],
      "metadata": {
        "id": "6Z_lEWfEdQZK",
        "colab": {
          "base_uri": "https://localhost:8080/"
        },
        "outputId": "3893373a-e13b-4b58-ca62-e440f6488558"
      },
      "execution_count": 38,
      "outputs": [
        {
          "output_type": "stream",
          "name": "stderr",
          "text": [
            "<ipython-input-38-2f3800db2826>:2: SettingWithCopyWarning: \n",
            "A value is trying to be set on a copy of a slice from a DataFrame\n",
            "\n",
            "See the caveats in the documentation: https://pandas.pydata.org/pandas-docs/stable/user_guide/indexing.html#returning-a-view-versus-a-copy\n",
            "  df_resid['Средняя площадь квартиры, м²'].fillna(0, inplace=True)\n"
          ]
        }
      ]
    },
    {
      "cell_type": "markdown",
      "source": [
        "2. Второй производный признак - общее количество спортивных и детских площадок"
      ],
      "metadata": {
        "id": "xhN0u6-VXVaW"
      }
    },
    {
      "cell_type": "code",
      "source": [
        "df_resid.insert(df_resid.columns.get_loc('Количество спортивных площадок')+1, 'Сумма детских и спортивных площадок', df_resid['Количество спортивных площадок'] + df_resid['Количество детских площадок'])"
      ],
      "metadata": {
        "id": "_gFdHo4Ji8M3"
      },
      "execution_count": 39,
      "outputs": []
    },
    {
      "cell_type": "markdown",
      "source": [
        "3. Третий производный признак звязан с количеством лифтов. Для начала посмотрим суммарное количество пассажирских и грузовых лифтов, а дальше рассмотрим \"лифтовооруженность\" ЖК"
      ],
      "metadata": {
        "id": "Mcp1AlLlXcT-"
      }
    },
    {
      "cell_type": "code",
      "source": [
        "df_resid.insert(df_resid.columns.get_loc('Количество грузовыхи грузопассажирских лифтов')+1, 'Количество грузовых и пассажирских лифтов', df_resid['Количество грузовыхи грузопассажирских лифтов'] + df_resid['Количество пассажирских лифтов'])\n",
        "#В названии колонки ошибочка, исправим\n",
        "df_resid = df_resid.rename(columns={'Количество грузовыхи грузопассажирских лифтов': 'Количество грузовых и грузопассажирских лифтов'})"
      ],
      "metadata": {
        "id": "cSispdGOjQ-A"
      },
      "execution_count": 40,
      "outputs": []
    },
    {
      "cell_type": "markdown",
      "source": [
        "Необходимо посчитать, на сколько квартир приходится 1 лифт в объекте недвижимости. Посколько жители 1 этажа лифтом не пользуются, квартиры, расположенные на нем, вычитаем. Делаем допущение, что лифтом также не пользуются 75% жителей 2 этажа, 50% - 3 этажа, 25% - 4 этажа и 20% людей, проживающих на 5 этаже. Посколько по законам РФ лифты должны быть обязательно построены в домах с 6 этажами и выше, предполагаем, что жители 6 и последующих этажей в 100% случаев лифтом пользуются."
      ],
      "metadata": {
        "id": "9ZGYvnLtgjiY"
      }
    },
    {
      "cell_type": "code",
      "source": [
        "def coef(n_floors):\n",
        "    result = np.where(n_floors == 1, 1,\n",
        "                      np.where(n_floors == 2, 1.75,\n",
        "                               np.where(n_floors == 3, 2.25,\n",
        "                                        np.where(n_floors == 4, 2.5, 2.7))))\n",
        "    return result"
      ],
      "metadata": {
        "id": "QYsZaNfazNga"
      },
      "execution_count": 41,
      "outputs": []
    },
    {
      "cell_type": "code",
      "source": [
        "df_resid.insert(df_resid.columns.get_loc('Количество грузовых и пассажирских лифтов') + 1, 'Лифтовооруженность', np.where((df_resid['Количество грузовых и пассажирских лифтов'] == 0) | (df_resid['Количество этажей'] == 0), 0,\n",
        "          (df_resid['Количество квартир'] - coef(df_resid['Количество этажей'])* (df_resid['Количество квартир'] / df_resid['Количество этажей'])) / np.where(df_resid['Количество грузовых и пассажирских лифтов'] != 0, df_resid['Количество грузовых и пассажирских лифтов'], 1)))"
      ],
      "metadata": {
        "id": "uKP_i88VfS84"
      },
      "execution_count": 42,
      "outputs": []
    },
    {
      "cell_type": "markdown",
      "source": [
        "4. Четвертый производный признак - среда для маломобильных граждан"
      ],
      "metadata": {
        "id": "_7975ortI8yL"
      }
    },
    {
      "cell_type": "markdown",
      "source": [
        "Посмотрим на распределение количеста инвалидных подъемников. Мы видим, что они практически везде отсутствуют, поэтому днный признак мы не будем рассматривать, как элемент расчета показателя наличия среды для маломобильных граждан"
      ],
      "metadata": {
        "id": "olykp8miryF0"
      }
    },
    {
      "cell_type": "code",
      "source": [
        "plt.figure(figsize=(8, 6))\n",
        "plt.hist(df_resid['Количество инвалидных подъемников'], bins=range(max(df_resid['Количество инвалидных подъемников']) + 2), color='skyblue', edgecolor='black', alpha=0.5)\n",
        "plt.xlabel('Количество инвалидных подъемников')\n",
        "plt.ylabel('Частота')\n",
        "plt.title('Распределение количества инвалидных подъемников\"')\n",
        "plt.grid(axis='y', alpha=0.75)\n",
        "plt.show()"
      ],
      "metadata": {
        "colab": {
          "base_uri": "https://localhost:8080/",
          "height": 564
        },
        "id": "SL0W7DRmpYIt",
        "outputId": "25d232b0-7345-434d-c0e3-9b5d45fdc90c"
      },
      "execution_count": 43,
      "outputs": [
        {
          "output_type": "display_data",
          "data": {
            "text/plain": [
              "<Figure size 800x600 with 1 Axes>"
            ],
            "image/png": "[encoded data removed]"
          },
          "metadata": {}
        }
      ]
    },
    {
      "cell_type": "code",
      "source": [
        "df_resid.insert(df_resid.columns.get_loc('Количество инвалидных подъемников')+1, 'Среда для маломобильных граждан', 0.5*(df_resid['Наличие пандуса'] + df_resid['Наличие понижающих площадок']))"
      ],
      "metadata": {
        "id": "VxVVkjl0JDUl"
      },
      "execution_count": 44,
      "outputs": []
    },
    {
      "cell_type": "markdown",
      "source": [
        "4. Пятый производный признак - оснащенность парковками: сколько парковочных мест приходится на одну квартиру"
      ],
      "metadata": {
        "id": "EG70lS-wZMrs"
      }
    },
    {
      "cell_type": "code",
      "source": [
        "df_resid['Количество парковочных мест на квартиру'] = df['Количество мест в паркинге'] / df['Количество квартир']"
      ],
      "metadata": {
        "id": "82fp_tWWZFIv"
      },
      "execution_count": 45,
      "outputs": []
    },
    {
      "cell_type": "markdown",
      "source": [
        "##Сохраним все что нам нужно в табличку"
      ],
      "metadata": {
        "id": "E0j6VykMZHBw"
      }
    },
    {
      "cell_type": "code",
      "source": [
        "variables = ['id', 'name', 'energy_efficiency', 'due_date', 'class', 'wall_material', 'n_finish_types', 'layout_variation', 'n_floors', 'n_flats', 'life_space', 'av_flat',\n",
        "             'min_ceiling_height', 'max_ceiling_height', 'bike_paths', 'n_playgrounds', 'n_sportsgrounds', 'n_p_s_grounds', 'n_garbage_sites',\n",
        "             'n_parking_places', 'ramp', 'lowering_platforms', 'n_wheelchair_lifts', 'low_mobility_facilities', 'n_entrances', 'n_p_lifts',\n",
        "             'n_f_lifts', 'n_lifts', 'lift_ratio','infrastr_access', 'transport_access', 'green_areas', 'air_quality', 'n_parking_per_flat']"
      ],
      "metadata": {
        "id": "ds_m4n75EYaF"
      },
      "execution_count": 46,
      "outputs": []
    },
    {
      "cell_type": "code",
      "source": [
        "df_resid = df_resid.rename(columns=dict(zip(df_resid.columns, variables)))"
      ],
      "metadata": {
        "id": "s1TxelQ8awov"
      },
      "execution_count": 47,
      "outputs": []
    },
    {
      "cell_type": "code",
      "source": [
        "df_resid.to_csv('Residential.csv', index=False)"
      ],
      "metadata": {
        "id": "wPIRzuMSNg5l"
      },
      "execution_count": 48,
      "outputs": []
    }
  ]
}
