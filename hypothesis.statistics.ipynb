{
 "cells": [
  {
   "cell_type": "code",
   "execution_count": 1,
   "metadata": {},
   "outputs": [
    {
     "name": "stderr",
     "output_type": "stream",
     "text": [
      "C:\\Users\\Katherine\\AppData\\Local\\Temp\\ipykernel_980\\2471143450.py:2: DeprecationWarning: \n",
      "Pyarrow will become a required dependency of pandas in the next major release of pandas (pandas 3.0),\n",
      "(to allow more performant data types, such as the Arrow string type, and better interoperability with other libraries)\n",
      "but was not found to be installed on your system.\n",
      "If this would cause problems for you,\n",
      "please provide us feedback at https://github.com/pandas-dev/pandas/issues/54466\n",
      "        \n",
      "  import pandas as pd\n"
     ]
    }
   ],
   "source": [
    "import numpy as np\n",
    "import pandas as pd\n",
    "\n",
    "import scipy.stats as sts\n",
    "import matplotlib.pyplot as plt\n",
    "import seaborn as sns"
   ]
  },
  {
   "cell_type": "code",
   "execution_count": 11,
   "metadata": {},
   "outputs": [
    {
     "data": {
      "text/html": [
       "<div>\n",
       "<style scoped>\n",
       "    .dataframe tbody tr th:only-of-type {\n",
       "        vertical-align: middle;\n",
       "    }\n",
       "\n",
       "    .dataframe tbody tr th {\n",
       "        vertical-align: top;\n",
       "    }\n",
       "\n",
       "    .dataframe thead th {\n",
       "        text-align: right;\n",
       "    }\n",
       "</style>\n",
       "<table border=\"1\" class=\"dataframe\">\n",
       "  <thead>\n",
       "    <tr style=\"text-align: right;\">\n",
       "      <th></th>\n",
       "      <th>class</th>\n",
       "      <th>av_flat</th>\n",
       "      <th>min_ceiling_h</th>\n",
       "      <th>parking_ratio</th>\n",
       "      <th>infr_access</th>\n",
       "      <th>lift_ratio</th>\n",
       "    </tr>\n",
       "  </thead>\n",
       "  <tbody>\n",
       "    <tr>\n",
       "      <th>0</th>\n",
       "      <td>Типовой</td>\n",
       "      <td>44.460000</td>\n",
       "      <td>2.70</td>\n",
       "      <td>0.000000</td>\n",
       "      <td>5</td>\n",
       "      <td>0.000000</td>\n",
       "    </tr>\n",
       "    <tr>\n",
       "      <th>1</th>\n",
       "      <td>Комфорт</td>\n",
       "      <td>69.358974</td>\n",
       "      <td>2.95</td>\n",
       "      <td>1.426282</td>\n",
       "      <td>8</td>\n",
       "      <td>46.800000</td>\n",
       "    </tr>\n",
       "    <tr>\n",
       "      <th>2</th>\n",
       "      <td>Комфорт</td>\n",
       "      <td>37.243697</td>\n",
       "      <td>2.70</td>\n",
       "      <td>1.878151</td>\n",
       "      <td>8</td>\n",
       "      <td>69.133333</td>\n",
       "    </tr>\n",
       "    <tr>\n",
       "      <th>3</th>\n",
       "      <td>Комфорт</td>\n",
       "      <td>40.970794</td>\n",
       "      <td>2.72</td>\n",
       "      <td>0.964953</td>\n",
       "      <td>5</td>\n",
       "      <td>72.004706</td>\n",
       "    </tr>\n",
       "    <tr>\n",
       "      <th>4</th>\n",
       "      <td>Комфорт</td>\n",
       "      <td>40.695195</td>\n",
       "      <td>2.72</td>\n",
       "      <td>1.040541</td>\n",
       "      <td>6</td>\n",
       "      <td>70.027941</td>\n",
       "    </tr>\n",
       "  </tbody>\n",
       "</table>\n",
       "</div>"
      ],
      "text/plain": [
       "     class    av_flat  min_ceiling_h  parking_ratio  infr_access  lift_ratio\n",
       "0  Типовой  44.460000           2.70       0.000000            5    0.000000\n",
       "1  Комфорт  69.358974           2.95       1.426282            8   46.800000\n",
       "2  Комфорт  37.243697           2.70       1.878151            8   69.133333\n",
       "3  Комфорт  40.970794           2.72       0.964953            5   72.004706\n",
       "4  Комфорт  40.695195           2.72       1.040541            6   70.027941"
      ]
     },
     "execution_count": 11,
     "metadata": {},
     "output_type": "execute_result"
    }
   ],
   "source": [
    "df_final = pd.read_csv('final.csv')\n",
    "df_final.head()"
   ]
  },
  {
   "cell_type": "markdown",
   "metadata": {},
   "source": [
    "Установим допустимый уровень значимости 10%"
   ]
  },
  {
   "cell_type": "markdown",
   "metadata": {},
   "source": [
    "## Гипотеза 1\n",
    "Средняя площадь квартиры положительно зависит от класса недвижимости\n",
    "\n",
    "В качестве основной гипотезы примем равенство матожиданий средних площадей квартир в разных классах недвижимости, а в качестве альтернативной - их одностороннее неравенство.\n",
    "$$H0: \\mu_{a-t}=\\mu_{a-c}=\\mu_{a-b}=\\mu_{a-e}$$\n",
    "$$H1: \\mu_{a-t}<\\mu_{a-c}<\\mu_{a-b}<\\mu_{a-e}$$\n",
    "$\\mu_{a-t}$ - средняя площадь квартиры для типового класса недвижимости\n",
    "\n",
    "$\\mu_{a-c}$ - средняя площадь квартиры для комфорт класса недвижимости\n",
    "\n",
    "$\\mu_{a-b}$ - средняя площадь квартиры для бизнес класса недвижимости\n",
    "\n",
    "$\\mu_{a-e}$ - средняя площадь квартиры для элитного класса недвижимости"
   ]
  },
  {
   "cell_type": "code",
   "execution_count": 4,
   "metadata": {},
   "outputs": [],
   "source": [
    "from scipy.stats import f_oneway"
   ]
  },
  {
   "cell_type": "code",
   "execution_count": 5,
   "metadata": {},
   "outputs": [],
   "source": [
    "av_flat_t = df_final[df_final['class'] == 'Типовой']['av_flat'].tolist()\n",
    "av_flat_c = df_final[df_final['class'] == 'Комфорт']['av_flat'].tolist()\n",
    "av_flat_b = df_final[df_final['class'] == 'Бизнес']['av_flat'].tolist()\n",
    "av_flat_e = df_final[df_final['class'] == 'Элитный']['av_flat'].tolist()"
   ]
  },
  {
   "cell_type": "code",
   "execution_count": 6,
   "metadata": {},
   "outputs": [
    {
     "data": {
      "text/plain": [
       "F_onewayResult(statistic=1213.6871209486123, pvalue=0.0)"
      ]
     },
     "execution_count": 6,
     "metadata": {},
     "output_type": "execute_result"
    }
   ],
   "source": [
    "f_oneway(av_flat_t, av_flat_c, av_flat_b, av_flat_e)"
   ]
  },
  {
   "cell_type": "markdown",
   "metadata": {},
   "source": [
    "Однофакторный дисперсионный анализ показал, что различия не могут быть объяснены случайностью (`p_value` = 0.0), следовательно, класс недвижимости связан со средней площадью квартиры, основная гипотеза $H0$ отвергается.\n",
    "\n",
    "Кроме того, можно из интереса посмотреть на средние и медианы для всех объектов недвижимости каждого класса:"
   ]
  },
  {
   "cell_type": "code",
   "execution_count": 12,
   "metadata": {},
   "outputs": [
    {
     "name": "stdout",
     "output_type": "stream",
     "text": [
      "50.15446950345209 52.33037685218932 68.28370096136035 106.67710530982505\n"
     ]
    }
   ],
   "source": [
    "print(df_final[df_final['class'] == 'Типовой']['av_flat'].mean(),\n",
    "      df_final[df_final['class'] == 'Комфорт']['av_flat'].mean(),\n",
    "      df_final[df_final['class'] == 'Бизнес']['av_flat'].mean(),\n",
    "    df_final[df_final['class'] == 'Элитный']['av_flat'].mean())"
   ]
  },
  {
   "cell_type": "code",
   "execution_count": 13,
   "metadata": {},
   "outputs": [
    {
     "name": "stdout",
     "output_type": "stream",
     "text": [
      "48.031496062992126 50.20488968395945 63.44444444444444 89.09895833333334\n"
     ]
    }
   ],
   "source": [
    "print(df_final[df_final['class'] == 'Типовой']['av_flat'].median(),\n",
    "      df_final[df_final['class'] == 'Комфорт']['av_flat'].median(),\n",
    "      df_final[df_final['class'] == 'Бизнес']['av_flat'].median(),\n",
    "    df_final[df_final['class'] == 'Элитный']['av_flat'].median())"
   ]
  },
  {
   "cell_type": "markdown",
   "metadata": {},
   "source": [
    "Можно заметить, что средняя площадь квартиры в ЖК элитного класса значительно выше остальных, в то время как разница между типовым и комфорт классами не столь существенна. Чтобы проверить, точно ли все 3 неравенства выполняются в той последовательности, как задано в основной гипотезе, проведем анализ для каждого из трех неравенств:"
   ]
  },
  {
   "cell_type": "code",
   "execution_count": 9,
   "metadata": {},
   "outputs": [],
   "source": [
    "from scipy import stats"
   ]
  },
  {
   "cell_type": "code",
   "execution_count": 10,
   "metadata": {},
   "outputs": [
    {
     "data": {
      "text/plain": [
       "1.1141506280418542e-14"
      ]
     },
     "execution_count": 10,
     "metadata": {},
     "output_type": "execute_result"
    }
   ],
   "source": [
    "t_stat, p_value = stats.ttest_ind(av_flat_t, av_flat_c)\n",
    "p_value"
   ]
  },
  {
   "cell_type": "code",
   "execution_count": 11,
   "metadata": {},
   "outputs": [
    {
     "data": {
      "text/plain": [
       "1.106616199345403e-191"
      ]
     },
     "execution_count": 11,
     "metadata": {},
     "output_type": "execute_result"
    }
   ],
   "source": [
    "t_stat, p_value = stats.ttest_ind(av_flat_c, av_flat_b)\n",
    "p_value"
   ]
  },
  {
   "cell_type": "code",
   "execution_count": 12,
   "metadata": {},
   "outputs": [
    {
     "data": {
      "text/plain": [
       "3.0206106834704303e-56"
      ]
     },
     "execution_count": 12,
     "metadata": {},
     "output_type": "execute_result"
    }
   ],
   "source": [
    "t_stat, p_value = stats.ttest_ind(av_flat_b, av_flat_e)\n",
    "p_value"
   ]
  },
  {
   "cell_type": "markdown",
   "metadata": {},
   "source": [
    "Во всех случаях `p_value` стремится к 0. Подтверждается, что с улучшением класса недвижимости средняя площадь квартиры увеличивается."
   ]
  },
  {
   "cell_type": "markdown",
   "metadata": {},
   "source": [
    "## Гипотеза 2\n",
    "Минимальная высота потолков положительно зависит от класса недвижимости\n",
    "\n",
    "В качестве основной гипотезы примем равенство матожиданий минимальной высоты потолков в разных классах недвижимости, а в качестве альтернативной - их одностороннее неравенство.\n",
    "$$H0: \\mu_{c-t}=\\mu_{c-c}=\\mu_{c-b}=\\mu_{c-e}$$\n",
    "$$H1: \\mu_{c-t}<\\mu_{c-c}<\\mu_{c-b}<\\mu_{c-e}$$\n",
    "$\\mu_{c-t}$ - средняя площадь квартиры для типового класса недвижимости\n",
    "\n",
    "$\\mu_{c-c}$ - средняя площадь квартиры для комфорт класса недвижимости\n",
    "\n",
    "$\\mu_{c-b}$ - средняя площадь квартиры для бизнес класса недвижимости\n",
    "\n",
    "$\\mu_{c-e}$ - средняя площадь квартиры для элитного класса недвижимости"
   ]
  },
  {
   "cell_type": "code",
   "execution_count": 20,
   "metadata": {},
   "outputs": [
    {
     "data": {
      "text/plain": [
       "F_onewayResult(statistic=1212.2921614297188, pvalue=0.0)"
      ]
     },
     "execution_count": 20,
     "metadata": {},
     "output_type": "execute_result"
    }
   ],
   "source": [
    "min_c_t = df_final[df_final['class'] == 'Типовой']['min_ceiling_h'].tolist()\n",
    "min_c_c = df_final[df_final['class'] == 'Комфорт']['min_ceiling_h'].tolist()\n",
    "min_c_b = df_final[df_final['class'] == 'Бизнес']['min_ceiling_h'].tolist()\n",
    "min_c_e = df_final[df_final['class'] == 'Элитный']['min_ceiling_h'].tolist()\n",
    "f_oneway(min_c_t, min_c_c, min_c_b, min_c_e)"
   ]
  },
  {
   "cell_type": "markdown",
   "metadata": {},
   "source": [
    "Однофакторный дисперсионный анализ показал, что различия не могут быть объяснены случайностью (`p_value` = 0.0), следовательно, класс недвижимости связан с минимальной высотой потолков, основная гипотеза $H0$ отвергается.\n",
    "\n",
    "Чтобы проверить, точно ли все 3 неравенства в составе альтернативной гипотезы выполняются, проведем для каждого из них t-тестирование:"
   ]
  },
  {
   "cell_type": "code",
   "execution_count": 21,
   "metadata": {},
   "outputs": [
    {
     "data": {
      "text/plain": [
       "2.101009742041225e-71"
      ]
     },
     "execution_count": 21,
     "metadata": {},
     "output_type": "execute_result"
    }
   ],
   "source": [
    "t_stat, p_value = stats.ttest_ind(min_c_t, min_c_c)\n",
    "p_value"
   ]
  },
  {
   "cell_type": "code",
   "execution_count": 22,
   "metadata": {},
   "outputs": [
    {
     "data": {
      "text/plain": [
       "8.28958197381792e-285"
      ]
     },
     "execution_count": 22,
     "metadata": {},
     "output_type": "execute_result"
    }
   ],
   "source": [
    "t_stat, p_value = stats.ttest_ind(min_c_c, min_c_b)\n",
    "p_value"
   ]
  },
  {
   "cell_type": "code",
   "execution_count": 23,
   "metadata": {},
   "outputs": [
    {
     "data": {
      "text/plain": [
       "2.0189935326509245e-26"
      ]
     },
     "execution_count": 23,
     "metadata": {},
     "output_type": "execute_result"
    }
   ],
   "source": [
    "t_stat, p_value = stats.ttest_ind(min_c_b, min_c_e)\n",
    "p_value"
   ]
  },
  {
   "cell_type": "markdown",
   "metadata": {},
   "source": [
    "Чтобы удостовериться, что связь положительна, посмотрим на средние и медианы для высоты потолков каждого класса недвижимости:"
   ]
  },
  {
   "cell_type": "code",
   "execution_count": 3,
   "metadata": {},
   "outputs": [
    {
     "name": "stdout",
     "output_type": "stream",
     "text": [
      "2.6970282836110036 2.745843588725685 2.9280891719745226 3.1071462264150944\n"
     ]
    }
   ],
   "source": [
    "print(df_final[df_final['class'] == 'Типовой']['min_ceiling_h'].mean(),\n",
    "      df_final[df_final['class'] == 'Комфорт']['min_ceiling_h'].mean(),\n",
    "      df_final[df_final['class'] == 'Бизнес']['min_ceiling_h'].mean(),\n",
    "    df_final[df_final['class'] == 'Элитный']['min_ceiling_h'].mean())"
   ]
  },
  {
   "cell_type": "code",
   "execution_count": 4,
   "metadata": {},
   "outputs": [
    {
     "name": "stdout",
     "output_type": "stream",
     "text": [
      "2.7 2.72 2.9 3.08\n"
     ]
    }
   ],
   "source": [
    "print(df_final[df_final['class'] == 'Типовой']['min_ceiling_h'].median(),\n",
    "      df_final[df_final['class'] == 'Комфорт']['min_ceiling_h'].median(),\n",
    "      df_final[df_final['class'] == 'Бизнес']['min_ceiling_h'].median(),\n",
    "    df_final[df_final['class'] == 'Элитный']['min_ceiling_h'].median())"
   ]
  },
  {
   "cell_type": "markdown",
   "metadata": {},
   "source": [
    "Во всех случаях `p_value` стремится к 0. Подтверждается, что в более высоких классах недвижимости минимальная высота потолков в среднем больше."
   ]
  },
  {
   "cell_type": "markdown",
   "metadata": {},
   "source": [
    "## Гипотеза 3\n",
    "Количество парковочных мест положительно зависит от класса недвижимости\n",
    "\n",
    "В качестве основной гипотезы примем равенство матожиданий `parking_ratio` в разных классах недвижимости, а в качестве альтернативной - их одностороннее неравенство.\n",
    "$$H0: \\mu_{p-t}=\\mu_{p-c}=\\mu_{p-b}=\\mu_{p-e}$$\n",
    "$$H1: \\mu_{p-t}<\\mu_{p-c}<\\mu_{p-b}<\\mu_{p-e}$$\n",
    "\n",
    "$\\mu_{p-t}$ - среднее количество парковочных мест на квартиру для типового класса недвижимости\n",
    "\n",
    "$\\mu_{p-c}$ - среднее количество парковочных мест на квартиру для комфорт класса недвижимости\n",
    "\n",
    "$\\mu_{p-b}$ - среднее количество парковочных мест на квартиру для бизнес класса недвижимости\n",
    "\n",
    "$\\mu_{p-e}$ - среднее количество парковочных мест на квартиру для элитного класса недвижимости"
   ]
  },
  {
   "cell_type": "code",
   "execution_count": 18,
   "metadata": {},
   "outputs": [
    {
     "data": {
      "text/plain": [
       "F_onewayResult(statistic=152.2087530343328, pvalue=4.0335425468119985e-96)"
      ]
     },
     "execution_count": 18,
     "metadata": {},
     "output_type": "execute_result"
    }
   ],
   "source": [
    "parking_r_t = df_final[df_final['class'] == 'Типовой']['parking_ratio'].tolist()\n",
    "parking_r_c = df_final[df_final['class'] == 'Комфорт']['parking_ratio'].tolist()\n",
    "parking_r_b = df_final[df_final['class'] == 'Бизнес']['parking_ratio'].tolist()\n",
    "parking_r_e = df_final[df_final['class'] == 'Элитный']['parking_ratio'].tolist()\n",
    "f_oneway(parking_r_t, parking_r_c, parking_r_b, parking_r_e)"
   ]
  },
  {
   "cell_type": "markdown",
   "metadata": {},
   "source": [
    "Однофакторный дисперсионный анализ показал, что различия не могут быть объяснены случайностью (`p_value` близко к 0), следовательно, класс недвижимости связан с количеством парковочных мест, основная гипотеза $H0$ отвергается.\n",
    "\n",
    "Чтобы проверить, точно ли все 3 неравенства в составе альтернативной гипотезы выполняются, проведем для каждого из них t-тестирование:"
   ]
  },
  {
   "cell_type": "code",
   "execution_count": 24,
   "metadata": {},
   "outputs": [
    {
     "data": {
      "text/plain": [
       "3.0827758100713186e-10"
      ]
     },
     "execution_count": 24,
     "metadata": {},
     "output_type": "execute_result"
    }
   ],
   "source": [
    "t_stat, p_value = stats.ttest_ind(parking_r_t, parking_r_c)\n",
    "p_value"
   ]
  },
  {
   "cell_type": "code",
   "execution_count": 25,
   "metadata": {},
   "outputs": [
    {
     "data": {
      "text/plain": [
       "0.03775051412473566"
      ]
     },
     "execution_count": 25,
     "metadata": {},
     "output_type": "execute_result"
    }
   ],
   "source": [
    "t_stat, p_value = stats.ttest_ind(parking_r_c, parking_r_b)\n",
    "p_value"
   ]
  },
  {
   "cell_type": "code",
   "execution_count": 26,
   "metadata": {},
   "outputs": [
    {
     "data": {
      "text/plain": [
       "2.161682608620691e-36"
      ]
     },
     "execution_count": 26,
     "metadata": {},
     "output_type": "execute_result"
    }
   ],
   "source": [
    "t_stat, p_value = stats.ttest_ind(parking_r_b, parking_r_e)\n",
    "p_value"
   ]
  },
  {
   "cell_type": "markdown",
   "metadata": {},
   "source": [
    "Чтобы удостовериться, что связь положительна, посмотрим на средние и медианы количества парковочных мест на квартиру для каждого класса недвижимости:"
   ]
  },
  {
   "cell_type": "code",
   "execution_count": 5,
   "metadata": {},
   "outputs": [
    {
     "name": "stdout",
     "output_type": "stream",
     "text": [
      "0.6355876582584669 0.733629908565177 0.7866353145308372 1.6496553517483148\n"
     ]
    }
   ],
   "source": [
    "print(df_final[df_final['class'] == 'Типовой']['parking_ratio'].mean(),\n",
    "      df_final[df_final['class'] == 'Комфорт']['parking_ratio'].mean(),\n",
    "      df_final[df_final['class'] == 'Бизнес']['parking_ratio'].mean(),\n",
    "    df_final[df_final['class'] == 'Элитный']['parking_ratio'].mean())"
   ]
  },
  {
   "cell_type": "code",
   "execution_count": 6,
   "metadata": {},
   "outputs": [
    {
     "name": "stdout",
     "output_type": "stream",
     "text": [
      "0.4739336492890995 0.5070672260513436 0.6184895833333334 1.2655589602704986\n"
     ]
    }
   ],
   "source": [
    "print(df_final[df_final['class'] == 'Типовой']['parking_ratio'].median(),\n",
    "      df_final[df_final['class'] == 'Комфорт']['parking_ratio'].median(),\n",
    "      df_final[df_final['class'] == 'Бизнес']['parking_ratio'].median(),\n",
    "    df_final[df_final['class'] == 'Элитный']['parking_ratio'].median())"
   ]
  },
  {
   "cell_type": "markdown",
   "metadata": {},
   "source": [
    "Во всех случаях `p_value` меньше допустимого уровня значимости, поэтому действительно количество парковочных мест на квартиру больше в жилой недвижимости более высокого класса."
   ]
  },
  {
   "cell_type": "markdown",
   "metadata": {},
   "source": [
    "## Гипотеза 4\n",
    "Индекс доступности инфраструктуры положительно зависит от класса недвижимости\n",
    "\n",
    "В качестве основной гипотезы примем равенство матожиданий индекса доступности инфраструктуры в разных классах недвижимости, а в качестве альтернативной - их одностороннее неравенство.\n",
    "$$H0: \\mu_{i-t}=\\mu_{i-c}=\\mu_{i-b}=\\mu_{i-e}$$\n",
    "$$H1: \\mu_{i-t}<\\mu_{i-c}<\\mu_{i-b}<\\mu_{i-e}$$\n",
    "$\\mu_{i-t}$ - средний индекс доступности инфраструктуры для типового класса недвижимости\n",
    "\n",
    "$\\mu_{i-c}$ - средний индекс доступности инфраструктуры для комфорт класса недвижимости\n",
    "\n",
    "$\\mu_{i-b}$ - средний индекс доступности инфраструктуры для бизнес класса недвижимости\n",
    "\n",
    "$\\mu_{i-e}$ - средний индекс доступности инфраструктуры для элитного класса недвижимости"
   ]
  },
  {
   "cell_type": "code",
   "execution_count": 27,
   "metadata": {},
   "outputs": [
    {
     "data": {
      "text/plain": [
       "F_onewayResult(statistic=128.78258199800484, pvalue=1.3184784892761298e-81)"
      ]
     },
     "execution_count": 27,
     "metadata": {},
     "output_type": "execute_result"
    }
   ],
   "source": [
    "infr_a_t = df_final[df_final['class'] == 'Типовой']['infr_access'].tolist()\n",
    "infr_a_c = df_final[df_final['class'] == 'Комфорт']['infr_access'].tolist()\n",
    "infr_a_b = df_final[df_final['class'] == 'Бизнес']['infr_access'].tolist()\n",
    "infr_a_e = df_final[df_final['class'] == 'Элитный']['infr_access'].tolist()\n",
    "f_oneway(infr_a_t, infr_a_c, infr_a_b, infr_a_e)"
   ]
  },
  {
   "cell_type": "markdown",
   "metadata": {},
   "source": [
    "Однофакторный дисперсионный анализ показал, что различия не могут быть объяснены случайностью (`p_value` меньше установленного уровня значимости 10%), следовательно, класс недвижимости связан с индексом доступности инфраструктуры, основная гипотеза $H0$ отвергается.\n",
    "\n",
    "Чтобы проверить, точно ли все 3 неравенства в составе альтернативной гипотезы выполняются, проведем для каждого из них t-тестирование:"
   ]
  },
  {
   "cell_type": "code",
   "execution_count": 28,
   "metadata": {},
   "outputs": [
    {
     "data": {
      "text/plain": [
       "1.1489721434004961e-20"
      ]
     },
     "execution_count": 28,
     "metadata": {},
     "output_type": "execute_result"
    }
   ],
   "source": [
    "t_stat, p_value = stats.ttest_ind(infr_a_t, infr_a_c)\n",
    "p_value"
   ]
  },
  {
   "cell_type": "code",
   "execution_count": 29,
   "metadata": {},
   "outputs": [
    {
     "data": {
      "text/plain": [
       "2.203046814579973e-24"
      ]
     },
     "execution_count": 29,
     "metadata": {},
     "output_type": "execute_result"
    }
   ],
   "source": [
    "t_stat, p_value = stats.ttest_ind(infr_a_c, infr_a_b)\n",
    "p_value"
   ]
  },
  {
   "cell_type": "code",
   "execution_count": 30,
   "metadata": {},
   "outputs": [
    {
     "data": {
      "text/plain": [
       "4.067987226360227e-07"
      ]
     },
     "execution_count": 30,
     "metadata": {},
     "output_type": "execute_result"
    }
   ],
   "source": [
    "t_stat, p_value = stats.ttest_ind(infr_a_b, infr_a_e)\n",
    "p_value"
   ]
  },
  {
   "cell_type": "markdown",
   "metadata": {},
   "source": [
    "Чтобы удостовериться, что связь положительна, посмотрим на средние и медианы индекса доступности инфраструктуры для каждого класса недвижимости:"
   ]
  },
  {
   "cell_type": "code",
   "execution_count": 7,
   "metadata": {},
   "outputs": [
    {
     "name": "stdout",
     "output_type": "stream",
     "text": [
      "5.313831848120883 5.900158793171894 6.9197452229299365 7.995283018867925\n"
     ]
    }
   ],
   "source": [
    "print(df_final[df_final['class'] == 'Типовой']['infr_access'].mean(),\n",
    "      df_final[df_final['class'] == 'Комфорт']['infr_access'].mean(),\n",
    "      df_final[df_final['class'] == 'Бизнес']['infr_access'].mean(),\n",
    "    df_final[df_final['class'] == 'Элитный']['infr_access'].mean())"
   ]
  },
  {
   "cell_type": "code",
   "execution_count": 8,
   "metadata": {},
   "outputs": [
    {
     "name": "stdout",
     "output_type": "stream",
     "text": [
      "6.0 7.0 8.0 9.0\n"
     ]
    }
   ],
   "source": [
    "print(df_final[df_final['class'] == 'Типовой']['infr_access'].median(),\n",
    "      df_final[df_final['class'] == 'Комфорт']['infr_access'].median(),\n",
    "      df_final[df_final['class'] == 'Бизнес']['infr_access'].median(),\n",
    "    df_final[df_final['class'] == 'Элитный']['infr_access'].median())"
   ]
  },
  {
   "cell_type": "markdown",
   "metadata": {},
   "source": [
    "Во всех случаях `p_value` меньше допустимого уровня значимости, поэтому действительно индекс доступности инфраструктуры выше в жилой недвижимости более высокого класса."
   ]
  },
  {
   "cell_type": "markdown",
   "metadata": {},
   "source": [
    "## Гипотеза 5\n",
    "Оснащенность лифтами выше в недвижимости более высокого класса (то есть, на один лифт приходится большее количество квартир, `lift_ratio` для более низких классов недвижимости принимает большие значения).\n",
    "\n",
    "В качестве основной гипотезы примем равенство матожиданий `lift_ratio` в разных классах недвижимости, а в качестве альтернативной - их одностороннее неравенство.\n",
    "$$H0: \\mu_{l-t}=\\mu_{l-c}=\\mu_{l-b}=\\mu_{l-e}$$\n",
    "$$H1: \\mu_{l-t}>\\mu_{l-c}>\\mu_{l-b}>\\mu_{l-e}$$\n",
    "\n",
    "$\\mu_{l-t}$ - средняя лифтовооруженность для типового класса недвижимости\n",
    "\n",
    "$\\mu_{l-c}$ - средняя лифтовооруженность для комфорт класса недвижимости\n",
    "\n",
    "$\\mu_{l-b}$ - средняя лифтовооруженность для бизнес класса недвижимости\n",
    "\n",
    "$\\mu_{l-e}$ - средняя лифтовооруженность для элитного класса недвижимости"
   ]
  },
  {
   "cell_type": "code",
   "execution_count": 31,
   "metadata": {},
   "outputs": [
    {
     "data": {
      "text/plain": [
       "F_onewayResult(statistic=38.90480196006327, pvalue=5.78471945464981e-25)"
      ]
     },
     "execution_count": 31,
     "metadata": {},
     "output_type": "execute_result"
    }
   ],
   "source": [
    "lift_r_t = df_final[df_final['class'] == 'Типовой']['lift_ratio'].tolist()\n",
    "lift_r_c = df_final[df_final['class'] == 'Комфорт']['lift_ratio'].tolist()\n",
    "lift_r_b = df_final[df_final['class'] == 'Бизнес']['lift_ratio'].tolist()\n",
    "lift_r_e = df_final[df_final['class'] == 'Элитный']['lift_ratio'].tolist()\n",
    "f_oneway(lift_r_t, lift_r_c, lift_r_b, lift_r_e)"
   ]
  },
  {
   "cell_type": "markdown",
   "metadata": {},
   "source": [
    "Однофакторный дисперсионный анализ показал, что различия не могут быть объяснены случайностью (`p_value` меньше установленного уровня значимости 10%), следовательно, класс недвижимости связан с количеством лифтов на квартиру, основная гипотеза $H0$ отвергается.\n",
    "\n",
    "Чтобы проверить, точно ли все 3 неравенства в составе альтернативной гипотезы выполняются, проведем для каждого из них t-тестирование:"
   ]
  },
  {
   "cell_type": "code",
   "execution_count": 32,
   "metadata": {},
   "outputs": [
    {
     "data": {
      "text/plain": [
       "0.0002706799284418396"
      ]
     },
     "execution_count": 32,
     "metadata": {},
     "output_type": "execute_result"
    }
   ],
   "source": [
    "t_stat, p_value = stats.ttest_ind(lift_r_t, lift_r_c)\n",
    "p_value"
   ]
  },
  {
   "cell_type": "code",
   "execution_count": 33,
   "metadata": {},
   "outputs": [
    {
     "data": {
      "text/plain": [
       "2.2948138521037797e-10"
      ]
     },
     "execution_count": 33,
     "metadata": {},
     "output_type": "execute_result"
    }
   ],
   "source": [
    "t_stat, p_value = stats.ttest_ind(lift_r_c, lift_r_b)\n",
    "p_value"
   ]
  },
  {
   "cell_type": "code",
   "execution_count": 34,
   "metadata": {},
   "outputs": [
    {
     "data": {
      "text/plain": [
       "2.406399953420519e-10"
      ]
     },
     "execution_count": 34,
     "metadata": {},
     "output_type": "execute_result"
    }
   ],
   "source": [
    "t_stat, p_value = stats.ttest_ind(lift_r_b, lift_r_e)\n",
    "p_value"
   ]
  },
  {
   "cell_type": "markdown",
   "metadata": {},
   "source": [
    "Чтобы удостовериться, что связь отрицательна, посмотрим на средние и медианы лифтовооруженности для каждого класса недвижимости:"
   ]
  },
  {
   "cell_type": "code",
   "execution_count": 9,
   "metadata": {},
   "outputs": [
    {
     "name": "stdout",
     "output_type": "stream",
     "text": [
      "31.97833288427023 34.21584153407808 28.488637530360606 18.023282323594067\n"
     ]
    }
   ],
   "source": [
    "print(df_final[df_final['class'] == 'Типовой']['lift_ratio'].mean(),\n",
    "      df_final[df_final['class'] == 'Комфорт']['lift_ratio'].mean(),\n",
    "      df_final[df_final['class'] == 'Бизнес']['lift_ratio'].mean(),\n",
    "    df_final[df_final['class'] == 'Элитный']['lift_ratio'].mean())"
   ]
  },
  {
   "cell_type": "code",
   "execution_count": 10,
   "metadata": {},
   "outputs": [
    {
     "name": "stdout",
     "output_type": "stream",
     "text": [
      "29.385714285714283 32.12 24.13355555555556 13.839142628205128\n"
     ]
    }
   ],
   "source": [
    "print(df_final[df_final['class'] == 'Типовой']['lift_ratio'].median(),\n",
    "      df_final[df_final['class'] == 'Комфорт']['lift_ratio'].median(),\n",
    "      df_final[df_final['class'] == 'Бизнес']['lift_ratio'].median(),\n",
    "    df_final[df_final['class'] == 'Элитный']['lift_ratio'].median())"
   ]
  },
  {
   "cell_type": "markdown",
   "metadata": {},
   "source": [
    "Во всех случаях `p_value` меньше допустимого уровня значимости, но анализ средних и медиан показал, что разница в лифтовооруженности между ЖК различных классов действительно есть, причем худший показатель лифтовооруженности наблюдается не у типового, а у комфорт класса недвижимости, хотя разница не такая существенная. Показатель лифтовооруженности для элитного класса недвижимости значительно лучше, чем у более низких классов"
   ]
  }
 ],
 "metadata": {
  "kernelspec": {
   "display_name": "Python 3",
   "language": "python",
   "name": "python3"
  },
  "language_info": {
   "codemirror_mode": {
    "name": "ipython",
    "version": 3
   },
   "file_extension": ".py",
   "mimetype": "text/x-python",
   "name": "python",
   "nbconvert_exporter": "python",
   "pygments_lexer": "ipython3",
   "version": "3.11.2"
  }
 },
 "nbformat": 4,
 "nbformat_minor": 2
}
