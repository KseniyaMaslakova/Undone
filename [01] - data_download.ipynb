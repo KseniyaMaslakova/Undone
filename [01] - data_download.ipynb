{
 "cells": [
  {
   "cell_type": "code",
   "execution_count": 1,
   "metadata": {},
   "outputs": [],
   "source": [
    "import json\n",
    "import os\n",
    "\n",
    "from selenium import webdriver\n",
    "from bs4 import BeautifulSoup\n",
    "\n",
    "from tqdm.auto import tqdm\n",
    "from multiprocess import Process, Manager, Lock"
   ]
  },
  {
   "cell_type": "code",
   "execution_count": 2,
   "metadata": {},
   "outputs": [],
   "source": [
    "SRC = 'data/src'\n",
    "\n",
    "os.makedirs(SRC, exist_ok=True)"
   ]
  },
  {
   "cell_type": "code",
   "execution_count": 3,
   "metadata": {},
   "outputs": [],
   "source": [
    "chrome_options = webdriver.ChromeOptions()\n",
    "chrome_prefs = {\"profile.managed_default_content_settings.images\": 2}\n",
    "chrome_options.add_experimental_option(\"prefs\", chrome_prefs)"
   ]
  },
  {
   "cell_type": "markdown",
   "metadata": {},
   "source": [
    "## Выгружаем айдишники домов"
   ]
  },
  {
   "cell_type": "code",
   "execution_count": 4,
   "metadata": {},
   "outputs": [],
   "source": [
    "LIMIT = 1000\n",
    "\n",
    "ids = set()"
   ]
  },
  {
   "cell_type": "code",
   "execution_count": 5,
   "metadata": {},
   "outputs": [],
   "source": [
    "with webdriver.Chrome(options=chrome_options) as browser:\n",
    "    cur = 0\n",
    "    batch = 10\n",
    "\n",
    "    while cur < LIMIT:\n",
    "        browser.get(f'https://наш.дом.рф/сервисы/api/kn/object?offset={cur}&limit={batch}&sortField=objId&objStatus=0')    \n",
    "        soup = BeautifulSoup(browser.page_source, 'html.parser')\n",
    "        \n",
    "        try:\n",
    "            q = json.loads(soup.find('pre').get_text())\n",
    "        except:\n",
    "            print(soup)\n",
    "            break\n",
    "        \n",
    "        if not q:\n",
    "            break\n",
    "\n",
    "        ids |= set(elem['objId'] for elem in q['data']['list'])\n",
    "\n",
    "        cur += batch\n"
   ]
  },
  {
   "cell_type": "markdown",
   "metadata": {},
   "source": [
    "## Скачиваем"
   ]
  },
  {
   "cell_type": "code",
   "execution_count": 6,
   "metadata": {},
   "outputs": [],
   "source": [
    "url = 'https://наш.дом.рф/сервисы/каталог-новостроек/объект'\n",
    "\n",
    "\n",
    "def download(ids, cnt, lock, force=False):\n",
    "    with webdriver.Chrome(options=chrome_options) as browser:\n",
    "\n",
    "        for id in ids:\n",
    "            dir = os.path.join(SRC, str(int(id) // 1000 * 1000))\n",
    "            file = os.path.join(dir, f'{id}.html')\n",
    "\n",
    "            if not force and os.path.exists(file):\n",
    "                with lock:\n",
    "                    cnt.value += 1\n",
    "                \n",
    "                continue\n",
    "        \n",
    "            browser.get(f'{url}/{id}')\n",
    "\n",
    "            html = browser.page_source\n",
    "\n",
    "            os.makedirs(dir, exist_ok=True)\n",
    "            \n",
    "            with open(file, 'w') as f:\n",
    "                f.write(html)\n",
    "            \n",
    "            with lock:\n",
    "                cnt.value += 1\n",
    "\n",
    "\n",
    "def multiprosses_download(n_proc=2, force=False):\n",
    "    manager = Manager()\n",
    "    cnt = manager.Value('i', 0)\n",
    "    lock = Lock()\n",
    "\n",
    "    ids_list = list(ids)\n",
    "    batch_sz = (len(ids_list) + N_PROC - 1) // N_PROC\n",
    "    batches = [ids_list[i * batch_sz:(i + 1) * batch_sz] for i in range(N_PROC)]\n",
    "\n",
    "    with tqdm(total=len(ids_list)) as progress_bar:\n",
    "            processes = [Process(target=download, args=(batch, cnt, lock, force)) for batch in batches]\n",
    "\n",
    "            for process in processes:\n",
    "                process.start()\n",
    "            \n",
    "            while any(process.is_alive() for process in processes):\n",
    "                progress_bar.update(n=cnt.value - progress_bar.n)\n",
    "\n",
    "            for process in processes:\n",
    "                process.join()\n"
   ]
  },
  {
   "cell_type": "code",
   "execution_count": 7,
   "metadata": {},
   "outputs": [
    {
     "data": {
      "application/vnd.jupyter.widget-view+json": {
       "model_id": "1e3823247ea543e09a6f9538f89445d7",
       "version_major": 2,
       "version_minor": 0
      },
      "text/plain": [
       "  0%|          | 0/1000 [00:00<?, ?it/s]"
      ]
     },
     "metadata": {},
     "output_type": "display_data"
    }
   ],
   "source": [
    "N_PROC = 8\n",
    "\n",
    "multiprosses_download(N_PROC, force=False)"
   ]
  }
 ],
 "metadata": {
  "kernelspec": {
   "display_name": "Python 3",
   "language": "python",
   "name": "python3"
  },
  "language_info": {
   "codemirror_mode": {
    "name": "ipython",
    "version": 3
   },
   "file_extension": ".py",
   "mimetype": "text/x-python",
   "name": "python",
   "nbconvert_exporter": "python",
   "pygments_lexer": "ipython3",
   "version": "3.11.9"
  }
 },
 "nbformat": 4,
 "nbformat_minor": 2
}
